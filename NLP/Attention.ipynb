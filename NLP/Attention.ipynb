{
 "cells": [
  {
   "cell_type": "markdown",
   "metadata": {},
   "source": [
    "# Attention \n",
    "# Neural Machine Translation by jointly learning to align and translate "
   ]
  },
  {
   "cell_type": "markdown",
   "metadata": {},
   "source": [
    "**목차** \n",
    "- Rnn encoder, decoder \n",
    "- Encoder \n",
    "- Decoder \n",
    "- Attention model \n",
    "- Attention Visualize "
   ]
  },
  {
   "cell_type": "markdown",
   "metadata": {},
   "source": [
    "#  1. Background\n",
    "## 1) Neural machine translation"
   ]
  },
  {
   "cell_type": "markdown",
   "metadata": {},
   "source": [
    "$$( arg max ) p(y | x) $$ "
   ]
  },
  {
   "cell_type": "markdown",
   "metadata": {},
   "source": [
    "확률 관점에서 translation은 target sentence 'y' 를 위 식을 통해서 찾습니다."
   ]
  },
  {
   "cell_type": "markdown",
   "metadata": {},
   "source": [
    "Neural machine translation에서는 병렬 행렬 말뭉치를 사용해서 조건부확률을 극대화한다고 합니다.  \n",
    "또한, neural machine translation components 로 두 개가 준비되어 있는데 하나는 input sentence 를 encode, 나머지 하나는 decode는 역할을 맡고 있습니다. "
   ]
  },
  {
   "cell_type": "markdown",
   "metadata": {},
   "source": [
    "## 2) Rnn Encoder - Decoder "
   ]
  },
  {
   "cell_type": "markdown",
   "metadata": {},
   "source": [
    "Align 과 translate을 동시에 진행합니다. "
   ]
  },
  {
   "cell_type": "markdown",
   "metadata": {},
   "source": [
    "$$ X = {x_1, x_2, x_3, ...x_Tx} -> vector C $$ \n",
    "<br>\n",
    "$$ ht = f (x_t, h_t−1) $$\n",
    "\n",
    "$$c = q ({h_1, · · · , h_Tx\n",
    "})$$"
   ]
  },
  {
   "cell_type": "markdown",
   "metadata": {},
   "source": [
    "그리고 $h_t $ 수식은 time t 때의 hidden state이며, C는 hidden states로부터 생성됩니다. "
   ]
  },
  {
   "cell_type": "markdown",
   "metadata": {},
   "source": [
    "$$\n",
    "p(y) = \\prod_{t=1}\n",
    "^{t}Y\n",
    "p(y_t | {y_1, · · · , y_t−1} , c)$$"
   ]
  },
  {
   "cell_type": "markdown",
   "metadata": {},
   "source": [
    "Decoder는 다음 단어인 $y_t'$ 를 C vector와 전체 말뭉치를 이용하여 예측하는 경우도 가끔 있습니다. 다른 말로 설명한다면 위에 식처럼 표현할 수 있습니다.\n",
    "\n",
    "RNN에서 각각의 조건부확률은 \n",
    "$\n",
    "p(y_t | {y_1, · · · , y_t−1} , c) = g(y_t−1, s_t, c) $로 표현됩니다.\n",
    "<br>   \n"
   ]
  },
  {
   "cell_type": "markdown",
   "metadata": {},
   "source": [
    "# 2. Neural Machine Translation"
   ]
  },
  {
   "cell_type": "code",
   "execution_count": 1,
   "metadata": {
    "id": "xePrKSKNAt7A"
   },
   "outputs": [],
   "source": [
    "import torch\n",
    "import torch.nn as nn\n",
    "import torch.optim as optim\n",
    "import numpy as np\n",
    "import matplotlib.pylab as plt \n",
    "import matplotlib.ticker as ticker\n",
    "from torch.nn.utils.rnn import pack_padded_sequence, pad_packed_sequence\n",
    "import warnings\n",
    "import matplotlib as mpl\n",
    "import matplotlib.pyplot as plt\n",
    "warnings.filterwarnings(action='ignore')\n",
    "DEVICE=None"
   ]
  },
  {
   "cell_type": "code",
   "execution_count": 2,
   "metadata": {
    "id": "JcjlqHLIAygx"
   },
   "outputs": [],
   "source": [
    "from matplotlib import font_manager, rc\n",
    "font_name = font_manager.FontProperties(fname='C:/Users/user/AppData/Local/Microsoft/Windows/Fonts/NanumSquare.ttf').get_name()\n",
    "rc('font', family=font_name)"
   ]
  },
  {
   "cell_type": "code",
   "execution_count": 3,
   "metadata": {
    "id": "xtj8FWS6A-u4"
   },
   "outputs": [],
   "source": [
    "flatten = lambda d: [t for s in d for t in s]\n",
    "\n",
    "def build_vocab(data, start_tkn=False):\n",
    "    \"\"\"build vocabulary\"\"\"\n",
    "    if start_tkn:\n",
    "        vocab = {'<unk>': 0, '<pad>': 1, '<s>': 2, '</s>': 3}\n",
    "    else:\n",
    "        vocab = {'<unk>': 0, '<pad>': 1}\n",
    "    \n",
    "    words = set(flatten(data))\n",
    "    for t in words:\n",
    "        if vocab.get(t) is None:\n",
    "            vocab[t] = len(vocab) \n",
    "    return vocab\n",
    "\n",
    "def add_pad(data, start_tkn=False):\n",
    "    \"\"\"add padding of sentences in batch to match lenghts\"\"\"\n",
    "    if start_tkn:\n",
    "        data = [['<s>'] + sent + ['</s>'] for sent in data]\n",
    "    max_len = max([len(sent) for sent in data])\n",
    "    data = [sent + ['<pad>']*(max_len-len(sent)) if len(sent) < max_len else sent \\\n",
    "            for sent in data ]\n",
    "    return data\n",
    "\n",
    "def numericalize(data, vocab):\n",
    "    \"\"\"numericalize and turn them into tensor\"\"\"\n",
    "    f = lambda x: [vocab.get(t) if vocab.get(t) is not None else vocab.get('<unk>') for t in x]\n",
    "    data = list(map(f, data))\n",
    "    return data\n",
    "\n",
    "def preprocess(data, vocab, start_tkn=False):\n",
    "    data = add_pad(data, start_tkn=start_tkn)\n",
    "    data = numericalize(data, vocab)\n",
    "    return torch.LongTensor(data)  \n",
    "\n",
    "def build_batch(src, trg, src_vocab, trg_vocab, is_sort=False):\n",
    "    if is_sort:\n",
    "        sorted_data = sorted(list(zip(src, trg)), key=lambda x: len(x[0]), reverse=True)\n",
    "        src, trg = list(zip(*sorted_data))\n",
    "    src = preprocess(src, src_vocab, start_tkn=False)\n",
    "    trg = preprocess(trg, trg_vocab, start_tkn=True)\n",
    "    if is_sort:\n",
    "        return (src, src.ne(src_vocab.get('<pad>')).sum(1)), trg\n",
    "    return src, trg"
   ]
  },
  {
   "cell_type": "code",
   "execution_count": 4,
   "metadata": {
    "id": "425s3wYFA_bU"
   },
   "outputs": [],
   "source": [
    "dataset = \"\"\"Nice to meet you > 만나서 반가워요 \\n I am very happy to meet you > 만나서 참 반가워요\"\"\".splitlines()\n",
    "dataset = [s.strip().split('>') for s in dataset]\n",
    "src, trg = [[sent.split() for sent in x] for x in zip(*dataset)]\n",
    "src_vocab = build_vocab(src)\n",
    "trg_vocab = build_vocab(trg, start_tkn=True)\n",
    "(inputs, lengths), targets = build_batch(src, trg, src_vocab, trg_vocab, is_sort=True)\n",
    "# 향후에 필요함\n",
    "trg_itos = sorted([(v, k) for k, v in trg_vocab.items()], key=lambda x: x[0])\n",
    "trg_itos = [x[1] for x in trg_itos]"
   ]
  },
  {
   "cell_type": "code",
   "execution_count": 5,
   "metadata": {
    "colab": {
     "base_uri": "https://localhost:8080/"
    },
    "id": "gziHN8FdBCEr",
    "outputId": "e53b2c10-94e4-43c1-c1e8-15d64ad3afa1"
   },
   "outputs": [
    {
     "data": {
      "text/plain": [
       "tensor([[7, 4, 2, 3, 6, 9, 5],\n",
       "        [8, 6, 9, 5, 1, 1, 1]])"
      ]
     },
     "execution_count": 5,
     "metadata": {},
     "output_type": "execute_result"
    }
   ],
   "source": [
    "inputs"
   ]
  },
  {
   "cell_type": "code",
   "execution_count": 6,
   "metadata": {
    "colab": {
     "base_uri": "https://localhost:8080/"
    },
    "id": "kUjxlO1zBDxg",
    "outputId": "4e6ce8f1-d76a-4515-cd06-5aad3a0dc0db"
   },
   "outputs": [
    {
     "data": {
      "text/plain": [
       "tensor([7, 4])"
      ]
     },
     "execution_count": 6,
     "metadata": {},
     "output_type": "execute_result"
    }
   ],
   "source": [
    "lengths"
   ]
  },
  {
   "cell_type": "code",
   "execution_count": 7,
   "metadata": {
    "colab": {
     "base_uri": "https://localhost:8080/"
    },
    "id": "eULJ7nvwBEzL",
    "outputId": "4fd25e0d-98fb-423c-b25a-fda8e55e2d78",
    "scrolled": true
   },
   "outputs": [
    {
     "data": {
      "text/plain": [
       "tensor([[2, 6, 5, 4, 3],\n",
       "        [2, 6, 4, 3, 1]])"
      ]
     },
     "execution_count": 7,
     "metadata": {},
     "output_type": "execute_result"
    }
   ],
   "source": [
    "targets"
   ]
  },
  {
   "cell_type": "markdown",
   "metadata": {},
   "source": [
    "## Hyperparameters for Encoder"
   ]
  },
  {
   "cell_type": "code",
   "execution_count": 8,
   "metadata": {
    "id": "izHT2T11BFqF"
   },
   "outputs": [],
   "source": [
    "EMBED = 20  # embedding_size\n",
    "HIDDEN = 60  # hidden_size\n",
    "ENC_N_LAYER = 3  # encoder number of layers\n",
    "L_NORM = True  # whether to use layernorm"
   ]
  },
  {
   "cell_type": "markdown",
   "metadata": {},
   "source": [
    "## Model Structure"
   ]
  },
  {
   "cell_type": "markdown",
   "metadata": {},
   "source": [
    "![](modelstructure.png)"
   ]
  },
  {
   "cell_type": "markdown",
   "metadata": {},
   "source": [
    "# Proposed Encoder\n",
    "\n",
    "  보통 Rnn을 사용한다면, 이전에 언급했던 방식처럼 $x_1$ 부터 $x_Tx$ 순서로 읽습니다.하지만, 이와 다르게 뒤에 따라오는 단어들까지 summarize 시키는 것이 제시된 모델의 encoder입니다.  \n",
    "  그리고 논문에서는 BiRNN을 사용했다는 언급이 있었습니다.   \n",
    "\n",
    "      BiRNN = bidrectional RNN \n",
    "  $$ (\n",
    "\\vec h_1, · · · ,\n",
    "\\vec h_Tx\n",
    ") $$   \n",
    "<br>\n",
    "그리고 forward hidden states 와 다르게 벡터의 방향이 반대로 구성된 sequence 를 갖고 있습니다.   \n",
    "<br>\n",
    " $$ (\n",
    "\\vec h_Tx, · · · ,\n",
    "\\vec h_1\n",
    ") $$ \n",
    "\n",
    "## Detailed Description of the model \n",
    "## 1. Forward \n",
    "$$ s_i = f(s_i−1, y_i−1, c_i) = (1 − z_i) ◦ s_i−1 + z_i ◦ s˜_i $$\n",
    "<br>\n",
    "\n",
    "$$ s˜i = tanh (W e(y_i−1) + U [r_i ◦ s_i−1] )$$\n",
    "<br>\n",
    "$$ z_i= σ (W_re(y_i−1) + U_rs_i−1) $$\n",
    "<br>\n",
    "$$ r_i = σ (W_re(y_i−1) + U_rs_i−1) $$\n",
    "<br>\n",
    "위 수식들을 토대로 BiRNN은  \n",
    "$$ \\vec {h _i} =\n",
    "(\n",
    "(1 −\n",
    "\\vec{z_i}) ◦\n",
    "\\vec{h_{i-1}} +\n",
    "\\vec{z_i} ◦\n",
    "\\vec{h_i}, {i > 0}$$ \n",
    "\n",
    "$$ \\vec {h _i} = 0, {i = 0}$$ \n",
    "을 따릅니다.\n",
    "\n",
    "이때 2가지 전제조건도 필요합니다.\n",
    "$$\\ E ∈ R^\n",
    "{m×K_x}$$\n",
    "\n",
    "$$ \\vec{W} ,\n",
    "\\vec{W_z},\n",
    "\\vec{W_r} ∈ R^\n",
    "{n×m},\n",
    "\\vec{U} ,\n",
    "\\vec{U_z},\n",
    "\\vec{U_r} ∈ R\n",
    "^{n×n} $$\n",
    "\n",
    "첫번째 조건은 워드 임베딩 행렬을 나타내고 밑에 수식은 가중치 행렬들을 나타내고 있습니다.  \n",
    "\n",
    "## 2. Backward \n",
    "\n",
    "forward 방식과 매우 비슷함\n",
    "<br>\n",
    "\n",
    "워드 임베딩 행렬을 forward와 같이 공유한다는 점이 BiRNN 의 특징\n",
    "\n",
    "![translation_encoder.png](data:image/png;base64,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)\n"
   ]
  },
  {
   "cell_type": "markdown",
   "metadata": {},
   "source": [
    "* pack_padded_sequence "
   ]
  },
  {
   "cell_type": "markdown",
   "metadata": {},
   "source": [
    "torch.nn.utils.rnn.pack_padded_sequence(input, lengths, batch_first=False, enforce_sorted=True)\n",
    "\n",
    "NLP에서 batch마다 고정된 문장의 길이를 만들어주기 위해서 <pad> 토큰을 넣어야합니다. 그런데 불필요한 계산을 줄이기 위해 병렬처리를 해줍니다. \n",
    "pack_padded_sequence 를 통해 batch_size를 효율적으로 지정해줍니다. "
   ]
  },
  {
   "cell_type": "markdown",
   "metadata": {},
   "source": [
    "* pad_packed_sequence"
   ]
  },
  {
   "cell_type": "markdown",
   "metadata": {},
   "source": [
    "    torch.nn.utils.rnn.pad_packed_sequence(sequence, batch_first=False, padding_value=0.0, total_length=None)\n",
    "    Example->\n",
    "     >>> from torch.nn.utils.rnn import pack_padded_sequence, pad_packed_sequence\n",
    "     >>> seq = torch.tensor([[1,2,0], [3,0,0], [4,5,6]])\n",
    "     >>> lens = [2, 1, 3]\n",
    "     >>> packed = pack_padded_sequence(seq, lens, batch_first=True, enforce_sorted=False)\n",
    "     >>> packed\n",
    "     PackedSequence(data=tensor([4, 1, 3, 5, 2, 6]), batch_sizes=tensor([3, 2, 1]),\n",
    "               sorted_indices=tensor([2, 0, 1]), unsorted_indices=tensor([1, 2, 0]))\n",
    "    >>> seq_unpacked, lens_unpacked = pad_packed_sequence(packed, batch_first=True)\n",
    "    >>> seq_unpacked\n",
    "    tensor([[1, 2, 0],\n",
    "        [3, 0, 0],\n",
    "        [4, 5, 6]])\n",
    "    >>> lens_unpacked\n",
    "    tensor([2, 1, 3])\n",
    "\n",
    "batch를 반환시켜주는데 B의 elements들은 pack_padded_sequence를 거쳤을때랑 마찬가지로 정렬됩니다."
   ]
  },
  {
   "cell_type": "markdown",
   "metadata": {},
   "source": [
    "## Encoder Model"
   ]
  },
  {
   "cell_type": "code",
   "execution_count": 9,
   "metadata": {
    "id": "9Z-C6oxGBH72"
   },
   "outputs": [],
   "source": [
    "class Encoder(nn.Module):\n",
    "    \"\"\"Encoder\"\"\"\n",
    "    def __init__(self, vocab_size, embed_size, hidden_size, n_layers, layernorm=False, bidirec=False):\n",
    "        super(Encoder, self).__init__()        \n",
    "        self.hidden_size = hidden_size\n",
    "        self.n_layers = n_layers\n",
    "        self.n_direction = 2 if bidirec else 1\n",
    "        self.layernorm = layernorm\n",
    "        self.embedding = nn.Embedding(vocab_size, embed_size)\n",
    "        self.gru = nn.GRU(embed_size, hidden_size, n_layers, bidirectional=bidirec, \n",
    "                          batch_first=True)\n",
    "        if layernorm:\n",
    "            self.l_norm = nn.LayerNorm(embed_size)\n",
    "        \n",
    "    def forward(self, inputs, lengths):\n",
    "        \"\"\"\n",
    "        Inputs:\n",
    "        - inputs: B, T_e\n",
    "        - lengths: B, (list)\n",
    "        Outputs:\n",
    "        - outputs: B, T_e, n_directions*H\n",
    "        - hiddens: 1, B, n_directions*H\n",
    "        \"\"\"\n",
    "        assert isinstance(lengths, list), \"lengths must be a list type\"\n",
    "        # B: batch_size, T_e: enc_length, M: embed_size, H: hidden_size\n",
    "        inputs = self.embedding(inputs) # (B, T_e) > (B, T_e, m)\n",
    "        if self.layernorm:\n",
    "            inputs = self.l_norm(inputs)\n",
    "        \n",
    "        packed_inputs = pack_padded_sequence(inputs, lengths, batch_first=True)\n",
    "        # packed_inputs: (B*T_e, M) + batches: (T_e)\n",
    "        packed_outputs, hiddens = self.gru(packed_inputs)\n",
    "        # packed_outputs: (B*T_e, n_directions*H) + batches: (T_e)\n",
    "        # hiddens: (n_layers*n_directions, B, H)\n",
    "        outputs, outputs_lengths = pad_packed_sequence(packed_outputs, batch_first=True)\n",
    "        # output: (B, T_e, n_directions*H) + lengths (B)\n",
    "        hiddens = torch.cat([h for h in hiddens[-self.n_direction:]], 1).unsqueeze(0)\n",
    "        # hiddens: (1, B, n_directions*H)\n",
    "        return outputs, hiddens"
   ]
  },
  {
   "cell_type": "code",
   "execution_count": 10,
   "metadata": {
    "colab": {
     "base_uri": "https://localhost:8080/"
    },
    "id": "7cNH7YCZBKfl",
    "outputId": "e8e59768-d53b-4600-a7e1-580d9a61afab"
   },
   "outputs": [
    {
     "data": {
      "text/plain": [
       "(torch.Size([2, 7, 120]), torch.Size([1, 2, 120]))"
      ]
     },
     "execution_count": 10,
     "metadata": {},
     "output_type": "execute_result"
    }
   ],
   "source": [
    "encoder = Encoder(len(src_vocab), EMBED, HIDDEN, ENC_N_LAYER, L_NORM, bidirec=True)\n",
    "enc_output, enc_hidden = encoder(inputs, lengths.tolist())\n",
    "enc_output.size(), enc_hidden.size()"
   ]
  },
  {
   "cell_type": "markdown",
   "metadata": {},
   "source": [
    "* BMM"
   ]
  },
  {
   "cell_type": "markdown",
   "metadata": {},
   "source": [
    "If input is a $(b×n×m)$ tensor, mat2 is a $(b \\times m \\times p)$ tensor, out will be a $(b \\times n \\times p)$ tensor.\n",
    "<br>\n",
    "<br>\n",
    "    $torch.bmm(input, mat2, *, deterministic=False, out=None) → Tensor$\n",
    "\n",
    "    \n",
    "    >>> input = torch.randn(10, 3, 4)\n",
    "    >>> mat2 = torch.randn(10, 4, 5)\n",
    "    >>> res = torch.bmm(input, mat2)\n",
    "    >>> res.size()\n",
    "    torch.Size([10, 3, 5]"
   ]
  },
  {
   "cell_type": "markdown",
   "metadata": {},
   "source": [
    "## Attention"
   ]
  },
  {
   "cell_type": "markdown",
   "metadata": {},
   "source": [
    "![](attention.png)"
   ]
  },
  {
   "cell_type": "code",
   "execution_count": 11,
   "metadata": {
    "id": "CU_xwKblBQtm"
   },
   "outputs": [],
   "source": [
    "class Attention(nn.Module):\n",
    "    \"\"\"Attention\"\"\"\n",
    "    def __init__(self, hidden_size, method='general', device='cpu'):\n",
    "        super(Attention, self).__init__()\n",
    "        \"\"\"\n",
    "        * hidden_size: decoder hidden_size(H_d=encoder_gru_direction*H)\n",
    "        methods:\n",
    "        - 'dot': dot product between hidden and encoder_outputs\n",
    "        - 'general': encoder_outputs through a linear layer \n",
    "        - 'concat': concat (hidden, encoder_outputs) ***NOT YET***\n",
    "        - 'paper': concat + tanh ***NOT YET***\n",
    "        \"\"\"\n",
    "        self.method = method\n",
    "        self.device = device\n",
    "        self.hidden_size = hidden_size \n",
    "        if self.method == 'general':\n",
    "            self.linear = nn.Linear(hidden_size, hidden_size)\n",
    "\n",
    "    def forward(self, hiddens, enc_outputs, enc_lengths=None, return_weight=False):\n",
    "        \"\"\"\n",
    "        Inputs:\n",
    "        - hiddens(previous_hiddens): B, 1, H_d\n",
    "        - enc_outputs(enc_outputs): B, T_e, H_d\n",
    "        - enc_lengths: real lengths of encoder outputs\n",
    "        - return_weight = return weights(alphas)\n",
    "        Outputs:\n",
    "        - contexts: B, 1, H_d\n",
    "        - attns: B, 1, T_e\n",
    "        \"\"\"\n",
    "        hid, out = hiddens, enc_outputs\n",
    "        # Batch(B), Seq_length(T)\n",
    "        B, T_d, H = hid.size()\n",
    "        B, T_e, H = out.size()\n",
    "        \n",
    "        score = self.get_score(hid, out)\n",
    "        # score: B, 1, T_e\n",
    "        if enc_lengths is not None:\n",
    "            mask = self.get_mask(B, T_d, T_e, enc_lengths)  # masks: B, 1, T_e\n",
    "            score = score.masked_fill(mask, float('-inf'))\n",
    "        \n",
    "        attns = torch.softmax(score, dim=2)  # attns: B, 1, T_e\n",
    "        contexts = attns.bmm(out)\n",
    "        if return_weight:\n",
    "            return contexts, attns\n",
    "        return contexts\n",
    "            \n",
    "    def get_score(self, hid, out):\n",
    "        \"\"\"\n",
    "        Inputs:\n",
    "        - hid(previous_hiddens): B, 1, H_d \n",
    "        - out(enc_outputs): B, T_e, H_d\n",
    "        Outputs:\n",
    "        - score: B, 1, T_e\n",
    "        \"\"\"\n",
    "        if self.method == 'dot':\n",
    "            # bmm: (B, 1, H_d) * (B, H, T_e) = (B, 1, T_e)\n",
    "            score = hid.bmm(out.transpose(1, 2))\n",
    "            return score\n",
    "        \n",
    "        elif self.method == 'general':\n",
    "            # linear: (B, T_e, H_d) > (B, T_e, H_d)\n",
    "            # bmm: (B, 1, H_d) * (B, H_d, T_e) = (B, 1, T_e)\n",
    "            score = self.linear(out)\n",
    "            score = hid.bmm(score.transpose(1, 2))\n",
    "            return score\n",
    "\n",
    "    def get_mask(self, B, T_d, T_e, lengths):\n",
    "        assert isinstance(lengths, list), \"lengths must be list type\"\n",
    "        mask = torch.zeros(B, T_d, T_e, dtype=torch.uint8).to(self.device)\n",
    "        for i, x in enumerate(lengths):\n",
    "            if x < T_e:\n",
    "                mask[i, :, x:].fill_(1)\n",
    "        return mask"
   ]
  },
  {
   "cell_type": "code",
   "execution_count": 12,
   "metadata": {
    "colab": {
     "base_uri": "https://localhost:8080/"
    },
    "id": "K4ueKjToBTM9",
    "outputId": "287b5e26-7d4d-4e59-b2b1-0946f72a02ff"
   },
   "outputs": [
    {
     "data": {
      "text/plain": [
       "(torch.Size([2, 1, 120]), torch.Size([2, 1, 7]))"
      ]
     },
     "execution_count": 12,
     "metadata": {},
     "output_type": "execute_result"
    }
   ],
   "source": [
    "attention = Attention(encoder.n_direction*HIDDEN, method='general', device=DEVICE).to(DEVICE)\n",
    "contexts, attns = attention(enc_hidden.transpose(0, 1), enc_output, lengths.tolist(), return_weight=True)\n",
    "contexts.size(), attns.size()"
   ]
  },
  {
   "cell_type": "code",
   "execution_count": 13,
   "metadata": {
    "colab": {
     "base_uri": "https://localhost:8080/",
     "height": 275
    },
    "id": "CaExh_ZtBVlI",
    "outputId": "ff7572d6-3d28-48df-8806-dfdeffcd09d3",
    "scrolled": true
   },
   "outputs": [
    {
     "data": {
      "image/png": "[encoded data removed]",
      "text/plain": [
       "<Figure size 432x288 with 2 Axes>"
      ]
     },
     "metadata": {
      "needs_background": "light"
     },
     "output_type": "display_data"
    }
   ],
   "source": [
    "fig = plt.figure()\n",
    "ax = fig.add_subplot(111)\n",
    "cax = ax.matshow(attns.detach().squeeze(1).numpy(), cmap='bone')\n",
    "fig.colorbar(cax)\n",
    "plt.show()"
   ]
  },
  {
   "cell_type": "markdown",
   "metadata": {},
   "source": [
    "## Decoder model"
   ]
  },
  {
   "cell_type": "markdown",
   "metadata": {},
   "source": [
    "![](decoder.png)"
   ]
  },
  {
   "cell_type": "markdown",
   "metadata": {},
   "source": [
    "## Decoder"
   ]
  },
  {
   "cell_type": "markdown",
   "metadata": {},
   "source": [
    "#### 계산 과정"
   ]
  },
  {
   "cell_type": "markdown",
   "metadata": {},
   "source": [
    "$${ e }_{ ij }=a\\left( { s }_{ i-1 },{ h }_{ j } \\right)$$"
   ]
  },
  {
   "cell_type": "markdown",
   "metadata": {},
   "source": [
    "* ${ e }_{ ij }$: i번째 단어 예측시, 직전 스텝의 hidden state 벡터 ${ s }_{ i-1 }$와 인코더 j번째 열벡터 ${ h }_{ j }$와의 유사도\n",
    "* $a$: alignment model, feedforward neural network"
   ]
  },
  {
   "cell_type": "markdown",
   "metadata": {},
   "source": [
    "$$ \\alpha _{ ij }=\\frac { exp\\left( { e }_{ ij } \\right)  }{ \\sum _{ k=1 }^{ { T }_{ x } }{ exp\\left( { e }_{ ik } \\right)  }  }$$"
   ]
  },
  {
   "cell_type": "markdown",
   "metadata": {},
   "source": [
    "* ${ e }_{ ij }$에 softmax 함수를 적용하여 확률값으로 변환\n",
    "* ${ T }_{ x }$: 인코더 입력 단어 수"
   ]
  },
  {
   "cell_type": "markdown",
   "metadata": {},
   "source": [
    "$${ { c }_{ i } } =\\sum _{ j=1 }^{ { T }_{ x } }{ { \\alpha  }_{ ij }{ h }_{ j } } =F  { { \\alpha  }_{ i } }$$"
   ]
  },
  {
   "cell_type": "markdown",
   "metadata": {},
   "source": [
    "* ${ c }_{ i }$: i번째 단어 예측시 쓰이는 context vector\n",
    "* encoder의 모든 hidden state의 weighted sum\n",
    "* encoder의 모든 hidden state는 모든 input에 대한 정보 담고 있음"
   ]
  },
  {
   "cell_type": "markdown",
   "metadata": {},
   "source": [
    "#### 예시"
   ]
  },
  {
   "cell_type": "markdown",
   "metadata": {},
   "source": [
    "![](example.png)"
   ]
  },
  {
   "cell_type": "markdown",
   "metadata": {},
   "source": [
    "* 디코더가 두 번째 단어 'like' 예측\n",
    "* attention vector 두 번째 요소값 가장 높음\n",
    "* 첫 번째 hidden state 벡터 $s_1$과 가장 유사한 인코더의 열벡터 $h_2$로 판단\n",
    "* context vector $c_2$는 출력벡터들로 구성된 행렬 F에 $a_2$를 내적"
   ]
  },
  {
   "cell_type": "markdown",
   "metadata": {},
   "source": [
    "## Decoder"
   ]
  },
  {
   "cell_type": "code",
   "execution_count": 14,
   "metadata": {
    "colab": {
     "base_uri": "https://localhost:8080/"
    },
    "id": "3l2gAZziBMXq",
    "outputId": "dfb6e58f-48d0-4cfe-ea97-d89260457641",
    "scrolled": true
   },
   "outputs": [
    {
     "data": {
      "text/plain": [
       "torch.Size([2, 1, 20])"
      ]
     },
     "execution_count": 14,
     "metadata": {},
     "output_type": "execute_result"
    }
   ],
   "source": [
    "dec_embedding = nn.Embedding(len(trg_vocab), EMBED)     # embedding\n",
    "sos = torch.LongTensor([2]*inputs.size(0)).unsqueeze(1) \n",
    "dec_input = dec_embedding(sos)\n",
    "dec_input.size()"
   ]
  },
  {
   "cell_type": "markdown",
   "metadata": {},
   "source": [
    "## Hyperparameters for Decoder"
   ]
  },
  {
   "cell_type": "code",
   "execution_count": 15,
   "metadata": {
    "id": "fgi7avI7BOtg"
   },
   "outputs": [],
   "source": [
    "DEC_N_LAYER = 1    # number of layer in Decoder\n",
    "DROP_RATE = 0.2    # dropout after embedding\n",
    "METHOD = 'general' # Attentioin method\n",
    "TF = True          # teacher forcing\n",
    "RETURN_W = True"
   ]
  },
  {
   "cell_type": "markdown",
   "metadata": {},
   "source": [
    "Teacher Forcing\n",
    "* 이전의 값에 오류가 있다면 그 오류에 의존하여 계속 잘못된 디코딩이 연쇄적으로 일어남\n",
    "* 학습할 때 예측값이 input이 아닌 실제값을 input으로 적용하여 학습하는 방법\n",
    "* 즉, 이전값은 correct answer로부터 가져오도록 하는 기법"
   ]
  },
  {
   "cell_type": "code",
   "execution_count": 16,
   "metadata": {
    "id": "EL_sOW7-BZI9"
   },
   "outputs": [],
   "source": [
    "class Decoder(nn.Module):\n",
    "    # 정의\n",
    "    def __init__(self, vocab_size, embed_size, hidden_size, n_layers=1, sos_idx=2, drop_rate=0.0, layernorm=False, method='general', teacher_force=False, device='cpu', return_w=False):\n",
    "        super(Decoder, self).__init__()\n",
    "        self.vocab_size = vocab_size\n",
    "        self.n_layers = n_layers\n",
    "        self.hidden_size = hidden_size\n",
    "        self.device = device\n",
    "        self.sos_idx = sos_idx\n",
    "        self.return_w = return_w\n",
    "        self.teacher_force = teacher_force\n",
    "        self.layernorm = layernorm\n",
    "        \n",
    "        self.embedding = nn.Embedding(vocab_size, embed_size)\n",
    "        self.dropout = nn.Dropout(drop_rate)\n",
    "        self.attention = Attention(hidden_size, method=method, device=device)\n",
    "        self.gru = nn.GRU(embed_size+hidden_size, hidden_size, n_layers, bidirectional=False, \n",
    "                          batch_first=True)\n",
    "        self.linear = nn.Linear(2*hidden_size, vocab_size)\n",
    "        if layernorm:\n",
    "            self.l_norm = nn.LayerNorm(embed_size)\n",
    "    \n",
    "    def start_token(self, batch_size):\n",
    "        sos = torch.LongTensor([self.sos_idx]*batch_size).unsqueeze(1).to(self.device)\n",
    "        return sos\n",
    "    \n",
    "    def init_hiddens(self, batch_size):\n",
    "        return torch.zeros(batch_size, self.n_layers, self.hidden_size).to(self.device)\n",
    "    \n",
    "    def forward(self, hiddens, enc_output, enc_lengths=None, max_len=None, targets=None, \n",
    "                is_eval=False, is_test=False, stop_idx=3):\n",
    "        \"\"\"\n",
    "        * B: bacth size\n",
    "        * H_d: decoder hidden_size\n",
    "        * M_d: decoder embedding_size\n",
    "        Inputs:\n",
    "        - hiddens: last encoder hidden at time 0\n",
    "        - enc_output: encoder output\n",
    "        - enc_lengths: encoder lengths \n",
    "        - max_len: max lenghts of target \n",
    "        Outputs:\n",
    "        - scores: results of all predictions \n",
    "        - attn_weights: attention weight for all batches\n",
    "        \"\"\"\n",
    "        if is_test:\n",
    "            is_eval=True\n",
    "        inputs = self.start_token(hiddens.size(1))  # (B, 1)\n",
    "        inputs = self.embedding(inputs) # (B, 1, M_d)\n",
    "        if self.layernorm:\n",
    "            inputs = self.l_norm(inputs)\n",
    "        inputs = self.dropout(inputs)\n",
    "        # layer 크기 맞추기\n",
    "        if hiddens.size(0) != self.n_layers:\n",
    "            hiddens = hiddens.repeat(self.n_layers, 1, 1)\n",
    "        # 전체 타겟 문장에 대해 실행\n",
    "        scores = []  \n",
    "        attn_weights = []\n",
    "        for i in range(1, max_len):\n",
    "            # contexts = (i-1번째 hidden state, i번째 encoder output) 유사도 측정 후 가중합 계산\n",
    "            contexts = self.attention(hiddens[-1:, :].transpose(0, 1), enc_output, enc_lengths, \n",
    "                                      return_weight=self.return_w)\n",
    "    \n",
    "            if self.return_w:\n",
    "                attns = contexts[1]      \n",
    "                contexts = contexts[0]   \n",
    "                attn_weights.append(attns) \n",
    "            \n",
    "            # gru_inputs = (i-1번째 임베딩 토큰, i번째 context) concat\n",
    "            gru_inputs = torch.cat((inputs, contexts), 2)\n",
    "            \n",
    "            # hidden sate 계산\n",
    "            # (gru_input, i-1번째 hidden state)\n",
    "            _, hiddens = self.gru(gru_inputs, hiddens)  # (B, 1, M_d+H_d) > (n_layers, B, H_d)         \n",
    "            \n",
    "            # score 계산\n",
    "            # (i-1번째 hidden state, i번째 context) linear\n",
    "            score = self.linear(torch.cat((hiddens[-1:, :].transpose(0, 1), contexts), 2))\n",
    "            scores.append(score)\n",
    "    \n",
    "            if (self.teacher_force and not is_eval):\n",
    "                selected_targets = targets[:, i].unsqueeze(1)\n",
    "            else:\n",
    "                selected_targets = None\n",
    "            \n",
    "            inputs, stop_decode = self.decode(is_tf=self.teacher_force, \n",
    "                                              is_eval=is_eval,\n",
    "                                              is_test=is_test,\n",
    "                                              score=score, \n",
    "                                              targets=selected_targets, \n",
    "                                              stop_idx=stop_idx)\n",
    "            if stop_decode:\n",
    "                break\n",
    "            \n",
    "        scores = torch.cat(scores, 1).view(-1, self.vocab_size)  # (B, T_d, vocab_size) > (B*T_d, vocab_size)\n",
    "        if self.return_w:\n",
    "            return scores, torch.cat(attn_weights, 1)  # (B, T_d, T_e)\n",
    "        return scores\n",
    "    \n",
    "    def decode(self, is_tf, is_eval, is_test, score, targets, stop_idx):\n",
    "        # stop_decode가 True가 될 때까지 반복\n",
    "        stop_decode = False\n",
    "        # 테스트\n",
    "        if is_test:\n",
    "            preds = score.max(2)[1]\n",
    "            if preds.view(-1).item() == stop_idx:\n",
    "                stop_decode = True\n",
    "            inputs = self.embedding(preds)\n",
    "        else:\n",
    "            # 훈련\n",
    "            if is_tf and not is_eval:\n",
    "                assert targets is not None, \"target must not be None in teacher force mode\"\n",
    "                inputs = self.embedding(targets)\n",
    "            # 검증\n",
    "            else:\n",
    "                preds = score.max(2)[1]\n",
    "                inputs = self.embedding(preds)\n",
    "\n",
    "        if self.layernorm:\n",
    "            inputs = self.l_norm(inputs)\n",
    "        inputs = self.dropout(inputs)\n",
    "        return inputs, stop_decode"
   ]
  },
  {
   "cell_type": "code",
   "execution_count": 17,
   "metadata": {
    "id": "4qz61CoyBcv9"
   },
   "outputs": [],
   "source": [
    "decoder = Decoder(len(trg_vocab), EMBED, encoder.n_direction*HIDDEN, n_layers=DEC_N_LAYER,\n",
    "                  drop_rate=DROP_RATE, method=METHOD, layernorm=L_NORM, \n",
    "                  sos_idx=trg_vocab['<s>'], teacher_force=TF, \n",
    "                  return_w=RETURN_W, device=DEVICE)"
   ]
  },
  {
   "cell_type": "code",
   "execution_count": 18,
   "metadata": {
    "colab": {
     "base_uri": "https://localhost:8080/"
    },
    "id": "yV_N-XAPBf6M",
    "outputId": "99ad8e5d-485a-40da-f8b1-88d2762f292b"
   },
   "outputs": [
    {
     "data": {
      "text/plain": [
       "(torch.Size([8, 7]), torch.Size([2, 4, 7]))"
      ]
     },
     "execution_count": 18,
     "metadata": {},
     "output_type": "execute_result"
    }
   ],
   "source": [
    "output, attns = decoder(hiddens=enc_hidden, enc_output=enc_output, max_len=targets.size(1),\n",
    "                targets=targets)\n",
    "output.size(), attns.size()"
   ]
  },
  {
   "cell_type": "markdown",
   "metadata": {},
   "source": [
    "## Train"
   ]
  },
  {
   "cell_type": "code",
   "execution_count": 19,
   "metadata": {
    "id": "PCnKW3v2BhP5"
   },
   "outputs": [],
   "source": [
    "LR = 0.01\n",
    "LAMBDA = 0.00001\n",
    "DECLR = 5.0\n",
    "STEP = 5"
   ]
  },
  {
   "cell_type": "code",
   "execution_count": 20,
   "metadata": {
    "id": "OPB9kL6EBjNL"
   },
   "outputs": [],
   "source": [
    "loss_function = nn.CrossEntropyLoss(ignore_index=trg_vocab['<pad>'])\n",
    "enc_optimizer = optim.Adam(encoder.parameters(), \n",
    "                           lr=LR, \n",
    "                           weight_decay=LAMBDA)\n",
    "dec_optimizer = optim.Adam(decoder.parameters(), \n",
    "                           lr=LR * DECLR, \n",
    "                           weight_decay=LAMBDA)"
   ]
  },
  {
   "cell_type": "markdown",
   "metadata": {},
   "source": [
    "* Cross Entropy"
   ]
  },
  {
   "cell_type": "markdown",
   "metadata": {},
   "source": [
    "$$Loss = -\\sum_{k=1}^{K} \\log\\big(p(k) \\big) q(k)$$"
   ]
  },
  {
   "cell_type": "markdown",
   "metadata": {},
   "source": [
    "$$\\begin{aligned} \\dfrac{\\partial Loss}{\\partial z_k} = q(k)\\big(p(k)-1\\big) \\end{aligned}$$"
   ]
  },
  {
   "cell_type": "markdown",
   "metadata": {},
   "source": [
    "$$q(k)=\\delta_{k,y} \\begin{cases} 1 \\quad \\text{if } k=y \\\\ 0 \\quad \\text{else} \\end{cases}$$"
   ]
  },
  {
   "cell_type": "code",
   "execution_count": 21,
   "metadata": {
    "colab": {
     "base_uri": "https://localhost:8080/",
     "height": 1000
    },
    "id": "urkvYkwIBktC",
    "outputId": "af87a6e1-10b2-4359-f3e3-8cdb55d94199",
    "scrolled": false
   },
   "outputs": [
    {
     "name": "stdout",
     "output_type": "stream",
     "text": [
      "STEP: 0, loss: 1.8959\n"
     ]
    },
    {
     "data": {
      "image/png": "[encoded data removed]",
      "text/plain": [
       "<Figure size 432x288 with 2 Axes>"
      ]
     },
     "metadata": {
      "needs_background": "light"
     },
     "output_type": "display_data"
    },
    {
     "name": "stdout",
     "output_type": "stream",
     "text": [
      "STEP: 1, loss: 1.1382\n"
     ]
    },
    {
     "data": {
      "image/png": "[encoded data removed]",
      "text/plain": [
       "<Figure size 432x288 with 2 Axes>"
      ]
     },
     "metadata": {
      "needs_background": "light"
     },
     "output_type": "display_data"
    },
    {
     "name": "stdout",
     "output_type": "stream",
     "text": [
      "STEP: 2, loss: 1.7621\n"
     ]
    },
    {
     "data": {
      "image/png": "[encoded data removed]",
      "text/plain": [
       "<Figure size 432x288 with 2 Axes>"
      ]
     },
     "metadata": {
      "needs_background": "light"
     },
     "output_type": "display_data"
    },
    {
     "name": "stdout",
     "output_type": "stream",
     "text": [
      "STEP: 3, loss: 1.6589\n"
     ]
    },
    {
     "data": {
      "image/png": "[encoded data removed]",
      "text/plain": [
       "<Figure size 432x288 with 2 Axes>"
      ]
     },
     "metadata": {
      "needs_background": "light"
     },
     "output_type": "display_data"
    },
    {
     "name": "stdout",
     "output_type": "stream",
     "text": [
      "STEP: 4, loss: 0.2688\n"
     ]
    },
    {
     "data": {
      "image/png": "[encoded data removed]",
      "text/plain": [
       "<Figure size 432x288 with 2 Axes>"
      ]
     },
     "metadata": {
      "needs_background": "light"
     },
     "output_type": "display_data"
    }
   ],
   "source": [
    "encoder.train()\n",
    "decoder.train()\n",
    "losses = []\n",
    "for i in range(STEP):\n",
    "    encoder.zero_grad() # 변화도 초기화\n",
    "    decoder.zero_grad() # 변화도 초기화\n",
    "    enc_output, enc_hidden = encoder(inputs, lengths.tolist())\n",
    "    outputs, attns = decoder(enc_hidden, enc_output, lengths.tolist(), \n",
    "                     targets.size(1), targets, is_eval=False)\n",
    "    \n",
    "    \n",
    "    loss = loss_function(outputs, targets[:, 1:].contiguous().view(-1))\n",
    "    losses.append(loss.item())\n",
    "    # loss 확인\n",
    "    print('STEP: {}, loss: {:.4f}'.format(i, loss.item()))\n",
    "    # attention 확인\n",
    "    preds = outputs.max(1)[1]\n",
    "    translated = list(map(lambda x: trg_itos[x], preds.tolist()))\n",
    "    fig = plt.figure()\n",
    "    ax = fig.add_subplot(111)\n",
    "    cax = ax.matshow(attns[1].detach().numpy(), cmap='bone')\n",
    "    fig.colorbar(cax)\n",
    "    ax.set_xticklabels([''] + src[0])\n",
    "    ax.set_yticklabels([''] + translated)\n",
    "    plt.show()\n",
    "    \n",
    "    loss.backward()\n",
    "    \n",
    "    enc_optimizer.step()\n",
    "    dec_optimizer.step()"
   ]
  }
 ],
 "metadata": {
  "colab": {
   "name": "Untitled0.ipynb",
   "provenance": []
  },
  "kernelspec": {
   "display_name": "Python 3",
   "language": "python",
   "name": "python3"
  },
  "language_info": {
   "codemirror_mode": {
    "name": "ipython",
    "version": 3
   },
   "file_extension": ".py",
   "mimetype": "text/x-python",
   "name": "python",
   "nbconvert_exporter": "python",
   "pygments_lexer": "ipython3",
   "version": "3.7.6"
  }
 },
 "nbformat": 4,
 "nbformat_minor": 1
}
