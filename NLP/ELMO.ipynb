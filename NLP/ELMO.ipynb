{
 "cells": [
  {
   "cell_type": "markdown",
   "metadata": {
    "id": "S2j7YbNmnhAR"
   },
   "source": [
    "# ELMo를 통한 문장분류(Text Classfication)"
   ]
  },
  {
   "cell_type": "markdown",
   "metadata": {
    "id": "kvGwNJUnnhAb"
   },
   "source": [
    "- **코드출처** :https://github.com/strongio/keras-elmo/blob/master/Elmo%20Keras.ipynb\n",
    "- **IMDB movie review 데이터 셋을 이용한 감성분석 문장 분류**  \n",
    "리뷰 문장이 긍정적(positive)인지 혹은 부정적(negative)인지를 예측하는 문장 분류  task\n",
    "- **텐서플로우 허브를 이용한 Pre-trained ELMo를 다운로드 하여 사용**  \n",
    "ELMo의 가장 큰 특징은 사전 훈련된 언어 모델(Pre-trained language model)을 사용한다는 점으로 이는 ELMo의 이름에 LM이 들어간 이유입니다. 텐서플로우 허브(TensorFlow Hub)는 일반화된 문제들에 대해서 모델의 재사용성을 극대화하기 위해서 구글에서 공개한 API로 텐서플로우 1.7.0 버전 이상에서 사용할 수 있고 명령어를 통해 TensorFlow Hub 라이브러리를 설치해주어야 합니다.\n",
    "\n",
    "- 참고 - 한국어 ELMo :   \n",
    "https://github.com/HIT-SCIR/ELMoForManyLangs  \n",
    "https://ratsgo.github.io/embedding/\n",
    "![image.png](data:image/png;base64,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)참고자료 : https://wikidocs.net/33930"
   ]
  },
  {
   "cell_type": "markdown",
   "metadata": {
    "id": "JnUbs4tEn7Js"
   },
   "source": [
    "이번 실습은 colab에서 수행한다고 가정하에, 우선 텐서플로우 버전을 1.x로 설정하겠습니다 !"
   ]
  },
  {
   "cell_type": "code",
   "execution_count": 1,
   "metadata": {
    "colab": {
     "base_uri": "https://localhost:8080/"
    },
    "id": "8CjMl_0OnzMf",
    "outputId": "2e3ecdb3-4c77-4fe5-ae54-8533129018f7"
   },
   "outputs": [
    {
     "name": "stdout",
     "output_type": "stream",
     "text": [
      "TensorFlow 1.x selected.\n"
     ]
    }
   ],
   "source": [
    "%tensorflow_version 1.x "
   ]
  },
  {
   "cell_type": "code",
   "execution_count": 2,
   "metadata": {
    "colab": {
     "base_uri": "https://localhost:8080/"
    },
    "id": "XmMAJKrDn1Kf",
    "outputId": "b86e3464-838d-4035-b160-26550d6ea18a"
   },
   "outputs": [
    {
     "name": "stdout",
     "output_type": "stream",
     "text": [
      "Requirement already satisfied: tensorflow-hub in /usr/local/lib/python3.6/dist-packages (0.10.0)\n",
      "Requirement already satisfied: protobuf>=3.8.0 in /usr/local/lib/python3.6/dist-packages (from tensorflow-hub) (3.12.4)\n",
      "Requirement already satisfied: numpy>=1.12.0 in /usr/local/lib/python3.6/dist-packages (from tensorflow-hub) (1.18.5)\n",
      "Requirement already satisfied: setuptools in /usr/local/lib/python3.6/dist-packages (from protobuf>=3.8.0->tensorflow-hub) (50.3.2)\n",
      "Requirement already satisfied: six>=1.9 in /usr/local/lib/python3.6/dist-packages (from protobuf>=3.8.0->tensorflow-hub) (1.15.0)\n"
     ]
    }
   ],
   "source": [
    "pip install tensorflow-hub"
   ]
  },
  {
   "cell_type": "markdown",
   "metadata": {
    "id": "kL-AxtRknhAf"
   },
   "source": [
    "## Import library"
   ]
  },
  {
   "cell_type": "code",
   "execution_count": 3,
   "metadata": {
    "colab": {
     "base_uri": "https://localhost:8080/"
    },
    "id": "bEwoI8MMnhAh",
    "outputId": "b7820a27-66a6-4a6e-c18b-b1851a2433f9"
   },
   "outputs": [
    {
     "name": "stderr",
     "output_type": "stream",
     "text": [
      "Using TensorFlow backend.\n"
     ]
    }
   ],
   "source": [
    "# 필요한 라이브러리 import\n",
    "import tensorflow as tf\n",
    "import pandas as pd\n",
    "import tensorflow_hub as hub\n",
    "import os\n",
    "import re\n",
    "from keras import backend as K\n",
    "import keras.layers as layers\n",
    "from keras.models import Model, load_model\n",
    "from keras.engine import Layer\n",
    "import numpy as np\n",
    "\n",
    "# 기존 tensorflow 에서 세션을 만듭니다. 그리고 그것을 keras에 등록시켜 keras가 해당 세션을 사용할 수 있도록 합니다. \n",
    "# (tensorflow2.X에선 필요없는 과정..)\n",
    "sess = tf.Session()\n",
    "K.set_session(sess)"
   ]
  },
  {
   "cell_type": "markdown",
   "metadata": {
    "id": "C6n6pZOPnhAv"
   },
   "source": [
    "## Data"
   ]
  },
  {
   "cell_type": "code",
   "execution_count": 4,
   "metadata": {
    "colab": {
     "base_uri": "https://localhost:8080/",
     "height": 230
    },
    "id": "-F27w796nhAw",
    "outputId": "12b12e9f-6e5a-4094-c16e-eccc5f680911"
   },
   "outputs": [
    {
     "name": "stdout",
     "output_type": "stream",
     "text": [
      "Downloading data from http://ai.stanford.edu/~amaas/data/sentiment/aclImdb_v1.tar.gz\n",
      "84131840/84125825 [==============================] - 9s 0us/step\n"
     ]
    },
    {
     "data": {
      "text/html": [
       "<div>\n",
       "<style scoped>\n",
       "    .dataframe tbody tr th:only-of-type {\n",
       "        vertical-align: middle;\n",
       "    }\n",
       "\n",
       "    .dataframe tbody tr th {\n",
       "        vertical-align: top;\n",
       "    }\n",
       "\n",
       "    .dataframe thead th {\n",
       "        text-align: right;\n",
       "    }\n",
       "</style>\n",
       "<table border=\"1\" class=\"dataframe\">\n",
       "  <thead>\n",
       "    <tr style=\"text-align: right;\">\n",
       "      <th></th>\n",
       "      <th>sentence</th>\n",
       "      <th>sentiment</th>\n",
       "      <th>polarity</th>\n",
       "    </tr>\n",
       "  </thead>\n",
       "  <tbody>\n",
       "    <tr>\n",
       "      <th>0</th>\n",
       "      <td>Jean Harlow and Clark Gable were a great on sc...</td>\n",
       "      <td>8</td>\n",
       "      <td>1</td>\n",
       "    </tr>\n",
       "    <tr>\n",
       "      <th>1</th>\n",
       "      <td>i almost did not go see this movie because i r...</td>\n",
       "      <td>9</td>\n",
       "      <td>1</td>\n",
       "    </tr>\n",
       "    <tr>\n",
       "      <th>2</th>\n",
       "      <td>Hugh (Ed Harris) is a hotshot, bachelor senato...</td>\n",
       "      <td>7</td>\n",
       "      <td>1</td>\n",
       "    </tr>\n",
       "    <tr>\n",
       "      <th>3</th>\n",
       "      <td>This incredibly overrated anime television ser...</td>\n",
       "      <td>1</td>\n",
       "      <td>0</td>\n",
       "    </tr>\n",
       "    <tr>\n",
       "      <th>4</th>\n",
       "      <td>College students, who are clearing out a conde...</td>\n",
       "      <td>4</td>\n",
       "      <td>0</td>\n",
       "    </tr>\n",
       "  </tbody>\n",
       "</table>\n",
       "</div>"
      ],
      "text/plain": [
       "                                            sentence sentiment  polarity\n",
       "0  Jean Harlow and Clark Gable were a great on sc...         8         1\n",
       "1  i almost did not go see this movie because i r...         9         1\n",
       "2  Hugh (Ed Harris) is a hotshot, bachelor senato...         7         1\n",
       "3  This incredibly overrated anime television ser...         1         0\n",
       "4  College students, who are clearing out a conde...         4         0"
      ]
     },
     "execution_count": 4,
     "metadata": {
      "tags": []
     },
     "output_type": "execute_result"
    }
   ],
   "source": [
    "# 디렉토리 안에 있는 모든 파일들을 DataFrame 형태로 읽어오는 함수\n",
    "def load_directory_data(directory):\n",
    "  data = {}  # 구체적으로 문장과 문장의 감정상태의 확신정도(sentiment=1~10)를 읽어옵니다.\n",
    "  data[\"sentence\"] = []\n",
    "  data[\"sentiment\"] = []\n",
    "  for file_path in os.listdir(directory):\n",
    "    with tf.gfile.GFile(os.path.join(directory, file_path), \"r\") as f:\n",
    "      data[\"sentence\"].append(f.read()) #파일의 내용 전체를 문자열로\n",
    "      data[\"sentiment\"].append(re.match(\"\\d+_(\\d+)\\.txt\", file_path).group(1))\n",
    "  return pd.DataFrame.from_dict(data)\n",
    "\n",
    "# 긍정(positive)예제와 부정(negative) 예제를 하나의 dataframe으로 합치고\n",
    "# 긍정 혹은 부정을 나타내는 polarity 칼럼을 추가하고 데이터를 랜덤하게 섞습니다.\n",
    "def load_dataset(directory):\n",
    "  pos_df = load_directory_data(os.path.join(directory, \"pos\"))\n",
    "  neg_df = load_directory_data(os.path.join(directory, \"neg\"))\n",
    "  pos_df[\"polarity\"] = 1\n",
    "  neg_df[\"polarity\"] = 0\n",
    "  return pd.concat([pos_df, neg_df]).sample(frac=1).reset_index(drop=True)\n",
    "\n",
    "# IMDB 영화 리뷰 데이터셋을 다운\n",
    "def download_and_load_datasets(force_download=False):\n",
    "  dataset = tf.keras.utils.get_file(\n",
    "      fname=\"aclImdb.tar.gz\", \n",
    "      origin=\"http://ai.stanford.edu/~amaas/data/sentiment/aclImdb_v1.tar.gz\", \n",
    "      extract=True)\n",
    "\n",
    "  train_df = load_dataset(os.path.join(os.path.dirname(dataset), \n",
    "                                       \"aclImdb\", \"train\"))\n",
    "  test_df = load_dataset(os.path.join(os.path.dirname(dataset), \n",
    "                                      \"aclImdb\", \"test\"))\n",
    "\n",
    "  return train_df, test_df\n",
    "\n",
    "# 로깅 레벨을 ERROR로 설정합니다.\n",
    "tf.logging.set_verbosity(tf.logging.ERROR)\n",
    "\n",
    "train_df, test_df = download_and_load_datasets()\n",
    "train_df.head()"
   ]
  },
  {
   "cell_type": "code",
   "execution_count": 5,
   "metadata": {
    "id": "OWrcu19qnhBO"
   },
   "outputs": [],
   "source": [
    "# 데이터셋 생성, 글자수는 150개 까지\n",
    "train_text = train_df['sentence'].tolist()\n",
    "train_text = [' '.join(t.split()[0:150]) for t in train_text]\n",
    "train_text = np.array(train_text, dtype=object)[:, np.newaxis]\n",
    "train_label = train_df['polarity'].tolist()\n",
    "\n",
    "test_text = test_df['sentence'].tolist()\n",
    "test_text = [' '.join(t.split()[0:150]) for t in test_text]\n",
    "test_text = np.array(test_text, dtype=object)[:, np.newaxis]\n",
    "test_label = test_df['polarity'].tolist()"
   ]
  },
  {
   "cell_type": "code",
   "execution_count": 6,
   "metadata": {
    "colab": {
     "base_uri": "https://localhost:8080/"
    },
    "id": "eiRK0Kc0vZkk",
    "outputId": "b4746924-8346-413f-d916-794702a34e78"
   },
   "outputs": [
    {
     "data": {
      "text/plain": [
       "array([[\"Jean Harlow and Clark Gable were a great on screen team and this may be their best movie together.<br /><br />Yes, Hold Your Man can be cheesy and predictable, but that's not what I love about the movie. I love seeing Harlow and Gable together and in this film they are simply wonderful. It is obvious that they really enjoyed working together and that is part of what makes this such a wonderful film.<br /><br />The witty dialogue, great script and attention to detail are the other things that make this such a good movie. I loved this movie the first time I saw it and on each subsequent viewing I always notice at least one new detail. To me, that is a mark of a great film.<br /><br />The dialogue and script are better than most movies from this time period (early 30's). I adore classic movies, but I\"],\n",
       "       [\"i almost did not go see this movie because i remember march of the penguin was not that much exciting. I went mainly because Disney promised to plant a tree if i go see it on the opening weekend, but after i did go see it, it was simply amazing; the fact that the photographers can capture impossible images are simply worth your money. You also get to see different habitats, different vegetation, animals, and natural phenomenons that will not only shock you - simply because you would never expect nature to be so magical and dynamic - but also touch your souls and raise the question of humanity versus the world, of how our lives have deviated from nature to such a degree that we take for granted of the natural beauty and miracles that are quintessential to our biosphere. You don't have to be an earth lover or\"],\n",
       "       [\"Hugh (Ed Harris) is a hotshot, bachelor senator determined to run for president. One day, however, he happens upon an old high school classmate named Aggie. Aggie (Diane Keaton) is an accomplished and award-winning author with a lovely face and an independent spirit. Hugh is smitten. He convinces Aggie to become his fiancé. But, will Aggie have to sacrifice her principles of honesty in the world of politics, where things are not always what they seem to be? And, will she be able to withstand the rigors of a harsh media blitz? This is, mostly, a nice romance for those who adore tales of affection. Hugh and Aggie are absolutely in love and their banter and conversation are a good view. However, although the movie tries to show the political life in its reality, it doesn't completely succeed. Nevermind. The production values are high and the script is very elegantly\"],\n",
       "       ...,\n",
       "       ['This 1919 to 1933 Germany looks hardly like a post WWII Czech capitol. Oh sorry, it is the Czech capitol and it is 2003, how funny.<br /><br />This is one of the most awful history movies in the nearest past. Röhm is a head higher than Adolf and looks so damned good, Göring looks like 40 when he just is 23 and the \"Führer\" always seems to look like 56. And the buildings, folks, even buildings have been young, sometimes. Especially 1919 were a lot of houses in Germany nearly new (the WWI does not reach German cities!). No crumbling plaster! Then the Reichstagsbuilding. There have never been urban canyons around this building, never. And this may sound to you all like a miracle: in the year 1933 the Greater Berlin fire brigade owns a lot of vehicles with engines, some even with turntable ladders, but none with a hand'],\n",
       "       ['This isn\\'t a bad movie... but it\\'s the type your girlfriend makes you watch. The story isn\\'t bad .... it just makes the hour and a half seem so long. It\\'s hard for me to trash this movie because I really do like the idea of it but it was just to long and thin on story... too bad. The main character never really seems to change all that much from beginning to end . I mean goes through something \"life changing\" and he can barely break a smile. I really thought Mac was really good. His weird quirkiness kept the movie from being a complete disaster. Maybe I just don\\'t \"get\" this film. If anyone can explain it to me I\\'d love to be informed.'],\n",
       "       [\"Christ, oh Christ... One watches stunned, incredulous, and possibly deranged, as this tawdry exercise in mirthless smut unfolds with all the wit and dexterity of a palsied Galapagos tortoise. Can such things be? Does this movie actually exist, or was I the unwitting guinea pig of some shadowy international drugs company, sipping my coffee unaware that it had been spiked with a dangerous hallucinogen? I've seen a lot of films, and a lot of bad films, but nothing prepared me for this; by the end of it I was a gibbering, snivelling wreck, tearing at the carpet with my teeth like a dog, clawing at the walls, howling till my lungs were sore. I pleaded desperately, frenziedly for mercy (to whom this appeal was made, I don't know), and longed with burning desire for the soothing balm of Ozu Yasujiro. Sweet Weeping Jesus, the memories... sometimes they come back to\"]],\n",
       "      dtype=object)"
      ]
     },
     "execution_count": 6,
     "metadata": {
      "tags": []
     },
     "output_type": "execute_result"
    }
   ],
   "source": [
    "train_text"
   ]
  },
  {
   "cell_type": "markdown",
   "metadata": {
    "id": "U4K8LBxJnhA7"
   },
   "source": [
    "## ELMO embedding"
   ]
  },
  {
   "cell_type": "code",
   "execution_count": 7,
   "metadata": {
    "id": "UO2AdbynnhA9"
   },
   "outputs": [],
   "source": [
    "# 가중치를 업데이트 할 수 있는 커스텀 레이어를 만듭니다.\n",
    "class ElmoEmbeddingLayer(Layer):\n",
    "    def __init__(self, **kwargs):\n",
    "        self.dimensions = 1024\n",
    "        self.trainable=True\n",
    "        super(ElmoEmbeddingLayer, self).__init__(**kwargs)\n",
    "    \n",
    "    def build(self, input_shape):\n",
    "        self.elmo = hub.Module('https://tfhub.dev/google/elmo/2', trainable=self.trainable,\n",
    "                               name=\"{}_module\".format(self.name))\n",
    "        self.trainable_weights += tf.trainable_variables(scope=\"^{}_module/.*\".format(self.name)) #elmo 적용시키며 가중치 계산하고 업데이트 \n",
    "        super(ElmoEmbeddingLayer, self).build(input_shape)  # super()로 기반 클래스의 build 메서드 호출\n",
    "\n",
    "    def call(self, x, mask=None):\n",
    "        result = self.elmo(K.squeeze(K.cast(x, tf.string), axis=1),\n",
    "                      as_dict=True,\n",
    "                      signature='default', # ELMo는 텐서플로우 허브로부터 가져온 것이기 때문에 케라스에서 사용하기 위해서는 케라스에서 사용할 수 있도록 변환해주는 작업들이 필요합니다.\n",
    "                      )['default'] # 데이터의 이동이 케라스 → 텐서플로우 → 케라스가 되도록 하는 함수\n",
    "        return result\n",
    "\n",
    "    def compute_mask(self, inputs, mask=None):\n",
    "        return K.not_equal(inputs, '--PAD--')\n",
    "\n",
    "    def compute_output_shape(self, input_shape): \n",
    "        return (input_shape[0], self.dimensions)"
   ]
  },
  {
   "cell_type": "markdown",
   "metadata": {
    "id": "ncHPS8jgnhBF"
   },
   "source": [
    "## Build model"
   ]
  },
  {
   "cell_type": "code",
   "execution_count": 8,
   "metadata": {
    "id": "-vDDjmq5nhBH"
   },
   "outputs": [],
   "source": [
    "# 모델 설계\n",
    "def build_model(): \n",
    "  input_text = layers.Input(shape=(1,), dtype=\"string\")\n",
    "  embedding = ElmoEmbeddingLayer()(input_text)\n",
    "  dense = layers.Dense(256, activation='relu')(embedding)\n",
    "  pred = layers.Dense(1, activation='sigmoid')(dense)\n",
    "\n",
    "  model = Model(inputs=[input_text], outputs=pred)\n",
    "\n",
    "  model.compile(loss='binary_crossentropy', optimizer='adam', metrics=['accuracy'])\n",
    "  model.summary()\n",
    "  \n",
    "  return model"
   ]
  },
  {
   "cell_type": "code",
   "execution_count": 12,
   "metadata": {
    "colab": {
     "base_uri": "https://localhost:8080/"
    },
    "id": "O2si5HOcsOXR",
    "outputId": "2b9456a7-072c-43bf-8d21-fcf8533654af"
   },
   "outputs": [
    {
     "name": "stdout",
     "output_type": "stream",
     "text": [
      "Model: \"model_2\"\n",
      "_________________________________________________________________\n",
      "Layer (type)                 Output Shape              Param #   \n",
      "=================================================================\n",
      "input_2 (InputLayer)         (None, 1)                 0         \n",
      "_________________________________________________________________\n",
      "elmo_embedding_layer_2 (Elmo (None, 1024)              4         \n",
      "_________________________________________________________________\n",
      "dense_3 (Dense)              (None, 256)               262400    \n",
      "_________________________________________________________________\n",
      "dense_4 (Dense)              (None, 1)                 257       \n",
      "=================================================================\n",
      "Total params: 262,661\n",
      "Trainable params: 262,661\n",
      "Non-trainable params: 0\n",
      "_________________________________________________________________\n",
      "Train on 25000 samples, validate on 25000 samples\n",
      "Epoch 1/5\n",
      "25000/25000 [==============================] - 740s 30ms/step - loss: 0.4553 - accuracy: 0.7825 - val_loss: 0.4184 - val_accuracy: 0.8080\n",
      "Epoch 2/5\n",
      "25000/25000 [==============================] - 739s 30ms/step - loss: 0.4059 - accuracy: 0.8152 - val_loss: 0.4128 - val_accuracy: 0.8086\n",
      "Epoch 3/5\n",
      "25000/25000 [==============================] - 733s 29ms/step - loss: 0.3919 - accuracy: 0.8181 - val_loss: 0.4052 - val_accuracy: 0.8137\n",
      "Epoch 4/5\n",
      "25000/25000 [==============================] - 730s 29ms/step - loss: 0.3773 - accuracy: 0.8298 - val_loss: 0.3854 - val_accuracy: 0.8222\n",
      "Epoch 5/5\n",
      "25000/25000 [==============================] - 727s 29ms/step - loss: 0.3674 - accuracy: 0.8348 - val_loss: 0.3811 - val_accuracy: 0.8260\n"
     ]
    },
    {
     "data": {
      "text/plain": [
       "<keras.callbacks.callbacks.History at 0x7fa163f359b0>"
      ]
     },
     "execution_count": 12,
     "metadata": {
      "tags": []
     },
     "output_type": "execute_result"
    }
   ],
   "source": [
    "# 모델 적용\n",
    "model = build_model()\n",
    "model.fit(train_text, \n",
    "          train_label,\n",
    "          validation_data=(test_text, test_label),\n",
    "          epochs=5,\n",
    "          batch_size=32)"
   ]
  },
  {
   "cell_type": "code",
   "execution_count": 13,
   "metadata": {
    "colab": {
     "base_uri": "https://localhost:8080/"
    },
    "id": "j5CY0qe_kJQl",
    "outputId": "7bda3c7e-f5ca-4974-bf1e-7a172417c058"
   },
   "outputs": [
    {
     "name": "stdout",
     "output_type": "stream",
     "text": [
      "25000/25000 [==============================] - 372s 15ms/step\n",
      "\n",
      " 테스트 정확도: 0.8260\n"
     ]
    }
   ],
   "source": [
    "print(\"\\n 테스트 정확도: %.4f\" % (model.evaluate(test_text, test_label)[1]))"
   ]
  },
  {
   "cell_type": "markdown",
   "metadata": {
    "id": "w81j508ERSYI"
   },
   "source": [
    "# 마치며..\n",
    "\n",
    "지금은 Bert에 밀려 인기도 없고.. 코드자료도 많이 없고... 하지만    \n",
    "ELMo는 방대한 텍스트 데이터를 (사전) 훈련받은 대규모 언어 모델이 다양한 NLU 과제에서 최고의 성능을 낼 수 있음을 최초로 증명했다는 점,   \n",
    "비교적 오래 전에 등장한 Bi-LSTM을 통해서 우수한 Pre-trained language model을 만들었다는 점에서 ELMo를 눈여겨 볼 만합니다!"
   ]
  },
  {
   "cell_type": "code",
   "execution_count": null,
   "metadata": {
    "id": "E2yL2lMiW9AG"
   },
   "outputs": [],
   "source": []
  }
 ],
 "metadata": {
  "accelerator": "GPU",
  "colab": {
   "collapsed_sections": [],
   "name": "Elmo Keras.ipynb",
   "provenance": []
  },
  "kernelspec": {
   "display_name": "Python 3",
   "language": "python",
   "name": "python3"
  },
  "language_info": {
   "codemirror_mode": {
    "name": "ipython",
    "version": 3
   },
   "file_extension": ".py",
   "mimetype": "text/x-python",
   "name": "python",
   "nbconvert_exporter": "python",
   "pygments_lexer": "ipython3",
   "version": "3.7.6"
  }
 },
 "nbformat": 4,
 "nbformat_minor": 1
}
