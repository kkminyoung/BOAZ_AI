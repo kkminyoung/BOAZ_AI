{
 "cells": [
  {
   "cell_type": "markdown",
   "metadata": {
    "colab_type": "text",
    "id": "oP7OGAUsDsLE"
   },
   "source": [
    "# FastText\n",
    "https://fasttext.cc/\n",
    "0. FastText - python\n",
    "1. Word representation\n",
    "2. Text classificaiton"
   ]
  },
  {
   "cell_type": "markdown",
   "metadata": {
    "colab_type": "text",
    "id": "99uyM85ubKtY"
   },
   "source": [
    "# FastText - Python"
   ]
  },
  {
   "cell_type": "markdown",
   "metadata": {
    "colab_type": "text",
    "id": "vvBGuUSIDMAG"
   },
   "source": [
    "## 1. fastText 설치\n",
    "https://pypi.org/project/fasttext/\n",
    "```bash\n",
    "$ pip install fastText\n",
    "```\n",
    "<b>※ 윈도우 오류 <br></b>\n",
    "1. https://pypi.org/project/fasttext-win/\n",
    "```bash\n",
    "$ pip install fasttext-win\n",
    "```\n",
    "2. https://github.com/ageitgey/fastText-windows-binaries/releases\n",
    "* python3.6/64bit : fasttext-0.9.1-cp36-cp36m-win_amd64.whl\n",
    "* python3.7/64bit : fasttext-0.9.1-cp37-cp37m-win_amd64.whl\n",
    "* python3.8/64bit : fasttext-0.9.1-cp38-cp38-win_amd64.whl\n",
    "```bash\n",
    "$ pip install fasttext-0.9.1-cp38-cp38-win_amd64.whl\n",
    "```\n",
    "3. download - https://github.com/xiamx/fastText/releases/download/fastText-latest-build43/fasttext-win64-latest-Release.zip <br>+ 디렉토리 경로 환경 설정해줘야 함."
   ]
  },
  {
   "cell_type": "markdown",
   "metadata": {
    "colab_type": "text",
    "id": "qcJJVDl1DMAK"
   },
   "source": [
    "## 2. Import"
   ]
  },
  {
   "cell_type": "code",
   "execution_count": null,
   "metadata": {
    "colab": {},
    "colab_type": "code",
    "id": "bZTFHlqADMAM"
   },
   "outputs": [],
   "source": [
    "#모듈 임포트\n",
    "import fasttext"
   ]
  },
  {
   "cell_type": "markdown",
   "metadata": {
    "colab_type": "text",
    "id": "SD7bdXeYDMAR"
   },
   "source": [
    "## 3. Model"
   ]
  },
  {
   "cell_type": "code",
   "execution_count": null,
   "metadata": {
    "colab": {},
    "colab_type": "code",
    "id": "8Ok86gITTcmL"
   },
   "outputs": [],
   "source": [
    "# Word representation model\n",
    "model = fasttext.train_unsupervised('data.txt')"
   ]
  },
  {
   "cell_type": "code",
   "execution_count": null,
   "metadata": {
    "colab": {},
    "colab_type": "code",
    "id": "OUi7N3tMTca8"
   },
   "outputs": [],
   "source": [
    "# skipgram\n",
    "model = fasttext.train_unsupervised('data.txt', model='skipgram')"
   ]
  },
  {
   "cell_type": "code",
   "execution_count": null,
   "metadata": {
    "colab": {},
    "colab_type": "code",
    "id": "ozIWWduMTcPR"
   },
   "outputs": [],
   "source": [
    "# cbow\n",
    "model = fasttext.train_unsupervised('data.txt', model='cbow')"
   ]
  },
  {
   "cell_type": "code",
   "execution_count": null,
   "metadata": {
    "colab": {},
    "colab_type": "code",
    "id": "e4csdzauZgEi"
   },
   "outputs": [],
   "source": [
    "# train_unsupervised parameters\n",
    "input             # training file path (required)\n",
    "model             # unsupervised fasttext model {cbow, skipgram} [skipgram]\n",
    "lr                # learning rate [0.05]\n",
    "dim               # size of word vectors [100]\n",
    "ws                # size of the context window [5]\n",
    "epoch             # number of epochs [5]\n",
    "minCount          # minimal number of word occurences [5]\n",
    "minn              # min length of char ngram [3]\n",
    "maxn              # max length of char ngram [6]\n",
    "neg               # number of negatives sampled [5]\n",
    "wordNgrams        # max length of word ngram [1]\n",
    "loss              # loss function {ns, hs, softmax, ova} [ns]\n",
    "bucket            # number of buckets [2000000]\n",
    "thread            # number of threads [number of cpus]\n",
    "lrUpdateRate      # change the rate of updates for the learning rate [100]\n",
    "t                 # sampling threshold [0.0001]\n",
    "verbose           # verbose [2]"
   ]
  },
  {
   "cell_type": "code",
   "execution_count": null,
   "metadata": {
    "colab": {},
    "colab_type": "code",
    "id": "IpM4kwwJdGei"
   },
   "outputs": [],
   "source": []
  },
  {
   "cell_type": "code",
   "execution_count": null,
   "metadata": {
    "colab": {},
    "colab_type": "code",
    "id": "CQFtM5W_TcEI"
   },
   "outputs": [],
   "source": [
    "# Text classification model\n",
    "model = fasttext.train_supervised('data.train.txt')"
   ]
  },
  {
   "cell_type": "code",
   "execution_count": null,
   "metadata": {
    "colab": {},
    "colab_type": "code",
    "id": "hDBFaRRxaVEh"
   },
   "outputs": [],
   "source": [
    "# train_supervised parameters\n",
    "input             # training file path (required)\n",
    "lr                # learning rate [0.1]\n",
    "dim               # size of word vectors [100]\n",
    "ws                # size of the context window [5]\n",
    "epoch             # number of epochs [5]\n",
    "minCount          # minimal number of word occurences [1]\n",
    "minCountLabel     # minimal number of label occurences [1]\n",
    "minn              # min length of char ngram [0]\n",
    "maxn              # max length of char ngram [0]\n",
    "neg               # number of negatives sampled [5]\n",
    "wordNgrams        # max length of word ngram [1]\n",
    "loss              # loss function {ns, hs, softmax, ova} [softmax]\n",
    "bucket            # number of buckets [2000000]\n",
    "thread            # number of threads [number of cpus]\n",
    "lrUpdateRate      # change the rate of updates for the learning rate [100]\n",
    "t                 # sampling threshold [0.0001]\n",
    "label             # label prefix ['__label__']\n",
    "verbose           # verbose [2]\n",
    "pretrainedVectors # pretrained word vectors (.vec file) for supervised learning []"
   ]
  },
  {
   "cell_type": "code",
   "execution_count": null,
   "metadata": {
    "colab": {},
    "colab_type": "code",
    "id": "Zy59dOXTg1QF"
   },
   "outputs": [],
   "source": []
  },
  {
   "cell_type": "code",
   "execution_count": null,
   "metadata": {
    "colab": {},
    "colab_type": "code",
    "id": "4CCUXsLjg09W"
   },
   "outputs": [],
   "source": [
    "#이미 저장된 모델 불러오기\n",
    "model = fasttext.load_model(\"model_filename.bin\")"
   ]
  },
  {
   "cell_type": "markdown",
   "metadata": {
    "colab_type": "text",
    "id": "fHc21S7rhh5o"
   },
   "source": [
    "## 4. Model object functions"
   ]
  },
  {
   "cell_type": "code",
   "execution_count": null,
   "metadata": {
    "colab": {},
    "colab_type": "code",
    "id": "nCk9Z-C-iBRv"
   },
   "outputs": [],
   "source": [
    "get_dimension           # Get the dimension (size) of a lookup vector (hidden layer).\n",
    "                        # This is equivalent to `dim` property.\n",
    "get_input_vector        # Given an index, get the corresponding vector of the Input Matrix.\n",
    "get_input_matrix        # Get a copy of the full input matrix of a Model.\n",
    "get_labels              # Get the entire list of labels of the dictionary\n",
    "                        # This is equivalent to `labels` property.\n",
    "get_line                # Split a line of text into words and labels.\n",
    "get_output_matrix       # Get a copy of the full output matrix of a Model.\n",
    "get_sentence_vector     # Given a string, get a single vector represenation. This function\n",
    "                        # assumes to be given a single line of text. We split words on\n",
    "                        # whitespace (space, newline, tab, vertical tab) and the control\n",
    "                        # characters carriage return, formfeed and the null character.\n",
    "get_subword_id          # Given a subword, return the index (within input matrix) it hashes to.\n",
    "get_subwords            # Given a word, get the subwords and their indicies.\n",
    "get_word_id             # Given a word, get the word id within the dictionary.\n",
    "get_word_vector         # Get the vector representation of word.\n",
    "get_words               # Get the entire list of words of the dictionary\n",
    "                        # This is equivalent to `words` property.\n",
    "is_quantized            # whether the model has been quantized\n",
    "predict                 # Given a string, get a list of labels and a list of corresponding probabilities.\n",
    "quantize                # Quantize the model reducing the size of the model and it's memory footprint.\n",
    "save_model              # Save the model to the given path\n",
    "test                    # Evaluate supervised model using file given by path\n",
    "test_label              # Return the precision and recall score for each label. "
   ]
  },
  {
   "cell_type": "code",
   "execution_count": null,
   "metadata": {
    "colab": {},
    "colab_type": "code",
    "id": "sK67SA4DjVZ2"
   },
   "outputs": [],
   "source": [
    "#ex\n",
    "model.get_word_vector('environment')"
   ]
  },
  {
   "cell_type": "code",
   "execution_count": null,
   "metadata": {
    "colab": {},
    "colab_type": "code",
    "id": "cizY5bC9jvBD"
   },
   "outputs": [],
   "source": [
    "# equivalent to model.get_words()\n",
    "model.words"
   ]
  },
  {
   "cell_type": "code",
   "execution_count": null,
   "metadata": {
    "colab": {},
    "colab_type": "code",
    "id": "Xyl2-GtGjvhx"
   },
   "outputs": [],
   "source": [
    "# equivalent to model.get_labels()\n",
    "model.labels"
   ]
  },
  {
   "cell_type": "code",
   "execution_count": null,
   "metadata": {
    "colab": {},
    "colab_type": "code",
    "id": "CnUIakVwjvTc"
   },
   "outputs": [],
   "source": [
    "# equivalent to model.get_word_vector('king')\n",
    "model['king']"
   ]
  },
  {
   "cell_type": "code",
   "execution_count": null,
   "metadata": {
    "colab": {},
    "colab_type": "code",
    "id": "QA4UzI4QjuvZ"
   },
   "outputs": [],
   "source": [
    "# equivalent to `'king' in model.get_words('king')\n",
    "'king' in model"
   ]
  }
 ],
 "metadata": {
  "colab": {
   "collapsed_sections": [],
   "name": "FastText_Python.ipynb",
   "provenance": [],
   "toc_visible": true
  },
  "kernelspec": {
   "display_name": "Python 3",
   "language": "python",
   "name": "python3"
  },
  "language_info": {
   "codemirror_mode": {
    "name": "ipython",
    "version": 3
   },
   "file_extension": ".py",
   "mimetype": "text/x-python",
   "name": "python",
   "nbconvert_exporter": "python",
   "pygments_lexer": "ipython3",
   "version": "3.7.6"
  }
 },
 "nbformat": 4,
 "nbformat_minor": 1
}
