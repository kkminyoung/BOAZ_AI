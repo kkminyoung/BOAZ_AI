{
 "cells": [
  {
   "cell_type": "markdown",
   "metadata": {
    "colab_type": "text",
    "id": "98h0lnzIaHAJ"
   },
   "source": [
    "# Install"
   ]
  },
  {
   "cell_type": "code",
   "execution_count": null,
   "metadata": {
    "colab": {},
    "colab_type": "code",
    "id": "17My4Ik8ayHl"
   },
   "outputs": [],
   "source": [
    "#build\n",
    "!git clone https://github.com/facebookresearch/fastText.git\n",
    "!cd fasttext\n",
    "!pip install fastText"
   ]
  },
  {
   "cell_type": "code",
   "execution_count": null,
   "metadata": {
    "colab": {},
    "colab_type": "code",
    "id": "XNadP129fwE4"
   },
   "outputs": [],
   "source": [
    "import fasttext"
   ]
  },
  {
   "cell_type": "code",
   "execution_count": null,
   "metadata": {
    "colab": {},
    "colab_type": "code",
    "id": "yC4H3WLpgNvN"
   },
   "outputs": [],
   "source": [
    "#help : 라이브러리의 상위 파일을 보여준다\n",
    "help(fasttext.FastText)"
   ]
  },
  {
   "cell_type": "markdown",
   "metadata": {
    "colab_type": "text",
    "id": "WScPLbS-gSkP"
   },
   "source": [
    "# Word Representation\n",
    "단어를 벡터로 변환하면 word analogies나 word semantic 등등 언어에 숨겨져 있는 정보를 포착할 수 있다. <br>\n",
    "Fasttext를 사용하여 단어 벡터를 만들어보자."
   ]
  },
  {
   "cell_type": "markdown",
   "metadata": {
    "colab_type": "text",
    "id": "PyEh9UbMhPiY"
   },
   "source": [
    "# Getting the data\n",
    "* corpus - 1billion bytes of English Wikipedia\n",
    "* 전처리 - wikifil.pl 사용해서 HTML/XML 데이터 처리 "
   ]
  },
  {
   "cell_type": "code",
   "execution_count": null,
   "metadata": {
    "colab": {},
    "colab_type": "code",
    "id": "orBhwsh6hSCG"
   },
   "outputs": [],
   "source": [
    "#data 폴더 생성\n",
    "!mkdir data"
   ]
  },
  {
   "cell_type": "code",
   "execution_count": null,
   "metadata": {
    "colab": {},
    "colab_type": "code",
    "id": "Li3yGUObhXVf"
   },
   "outputs": [],
   "source": [
    "#데이터 다운\n",
    "!wget -c http://mattmahoney.net/dc/enwik9.zip -P data"
   ]
  },
  {
   "cell_type": "code",
   "execution_count": null,
   "metadata": {
    "colab": {},
    "colab_type": "code",
    "id": "6b2ua6Zwhioc"
   },
   "outputs": [],
   "source": [
    "#압축 해제\n",
    "!unzip data/enwik9.zip -d data"
   ]
  },
  {
   "cell_type": "code",
   "execution_count": null,
   "metadata": {
    "colab": {},
    "colab_type": "code",
    "id": "XVIJVfVxirGL"
   },
   "outputs": [],
   "source": [
    "#전처리\n",
    "!perl fastText/wikifil.pl data/enwik9 > data/fil9"
   ]
  },
  {
   "cell_type": "code",
   "execution_count": null,
   "metadata": {
    "colab": {},
    "colab_type": "code",
    "id": "_vx0I6l4i3uW"
   },
   "outputs": [],
   "source": [
    "!head -c 80 data/fil9"
   ]
  },
  {
   "cell_type": "markdown",
   "metadata": {
    "colab_type": "text",
    "id": "loCuRDF5jAb9"
   },
   "source": [
    "# Training word vectors"
   ]
  },
  {
   "cell_type": "code",
   "execution_count": null,
   "metadata": {
    "colab": {},
    "colab_type": "code",
    "id": "-jy6ExbUjA2W"
   },
   "outputs": [],
   "source": [
    "import fasttext"
   ]
  },
  {
   "cell_type": "code",
   "execution_count": null,
   "metadata": {
    "colab": {},
    "colab_type": "code",
    "id": "qCctgM4mjBDa"
   },
   "outputs": [],
   "source": [
    "#Learning word vectors(시간 오래 걸림..)\n",
    "model = fasttext.train_unsupervised('data/fil9')"
   ]
  },
  {
   "cell_type": "code",
   "execution_count": null,
   "metadata": {
    "colab": {},
    "colab_type": "code",
    "id": "ibhq5S7VkYHL"
   },
   "outputs": [],
   "source": [
    "model.words"
   ]
  },
  {
   "cell_type": "code",
   "execution_count": null,
   "metadata": {
    "colab": {},
    "colab_type": "code",
    "id": "nVTdhzNIjBbs"
   },
   "outputs": [],
   "source": [
    "#Get the word vector\n",
    "model.get_word_vector(\"the\")"
   ]
  },
  {
   "cell_type": "code",
   "execution_count": null,
   "metadata": {
    "colab": {},
    "colab_type": "code",
    "id": "K1FGEACTjBnh"
   },
   "outputs": [],
   "source": [
    "#Save this model\n",
    "model.save_model(\"result/fil9.bin\")"
   ]
  },
  {
   "cell_type": "code",
   "execution_count": null,
   "metadata": {
    "colab": {},
    "colab_type": "code",
    "id": "7wGElGCFjWmV"
   },
   "outputs": [],
   "source": [
    "#Reload\n",
    "model = fasttext.load_model(\"result/fil9.bin\")"
   ]
  },
  {
   "cell_type": "markdown",
   "metadata": {
    "colab_type": "text",
    "id": "E7Z84AfZjXby"
   },
   "source": [
    "# Skipgram VS CBOW\n",
    "fasttext는 skipgram과 cbow(continuous-bag-of-words) 모델을 제공한다.\n",
    "* skipgram : nearby word로 target word를 예측.\n",
    "* cbow : context word로 target word를 예측.\n",
    "<img src=\"https://t1.daumcdn.net/cfile/tistory/99C6A23A5C9043C80F\">"
   ]
  },
  {
   "cell_type": "code",
   "execution_count": null,
   "metadata": {
    "colab": {},
    "colab_type": "code",
    "id": "znV5QcXPjXl4"
   },
   "outputs": [],
   "source": [
    "#cbow model\n",
    "cbow_model = fasttext.train_unsupervised('data/fil9','cbow')"
   ]
  },
  {
   "cell_type": "markdown",
   "metadata": {
    "colab_type": "text",
    "id": "ik6UStRtjXv5"
   },
   "source": [
    "# Parameters for word vectors\n",
    "data parameters\n",
    "* dim : dimension, 벡터 크기 조절. default = 100 (주로, 100 - 300)\n",
    "* minn : minimum size for the subwords. default = 3\n",
    "* maxn : maximal size for the subwords. defualt = 6\n",
    "\n",
    "train parameters\n",
    "* epoch : 데이터 반복 횟수 제어. default = 5\n",
    "* lr : learning rate. default = 0.05 (0.01 - 1 권장)\n",
    "<br>\n",
    "* thread : fastText는 멀티스레드를 사용. default = 12"
   ]
  },
  {
   "cell_type": "code",
   "execution_count": null,
   "metadata": {
    "colab": {},
    "colab_type": "code",
    "id": "Fs0l9hpZjX6e"
   },
   "outputs": [],
   "source": [
    "#data parameter\n",
    "model = fasttext.train_unsupervised('data/fil9', minn=2, maxn=5, dim=300)"
   ]
  },
  {
   "cell_type": "code",
   "execution_count": null,
   "metadata": {
    "colab": {},
    "colab_type": "code",
    "id": "yNPaJYZbjXr9"
   },
   "outputs": [],
   "source": [
    "#train parameter\n",
    "model = fasttext.train_unsupervised('data/fil9', epoch=1, lr=0.5)"
   ]
  },
  {
   "cell_type": "code",
   "execution_count": null,
   "metadata": {
    "colab": {},
    "colab_type": "code",
    "id": "-GdFVNdNjXhG"
   },
   "outputs": [],
   "source": [
    "model = fasttext.train_unsupervised('data/fil9', thread=4)"
   ]
  },
  {
   "cell_type": "code",
   "execution_count": null,
   "metadata": {
    "colab": {},
    "colab_type": "code",
    "id": "yn8ZxrtKxcUG"
   },
   "outputs": [],
   "source": [
    "model2 = fasttext.train_unsupervised('data/fil9', minn=2, maxn=5, dim=300, epoch=1, thread=4)"
   ]
  },
  {
   "cell_type": "markdown",
   "metadata": {
    "colab_type": "text",
    "id": "NgjyodnqjXN1"
   },
   "source": [
    "# Printing word vectors\n",
    "데이터에 없는 단어도 벡터 출력 가능"
   ]
  },
  {
   "cell_type": "code",
   "execution_count": null,
   "metadata": {
    "colab": {},
    "colab_type": "code",
    "id": "c6vuNfJhjqZ3"
   },
   "outputs": [],
   "source": [
    "for x in ['asparagus', 'pidgey', 'yellow']:\n",
    "  print(model.get_word_vector(x))"
   ]
  },
  {
   "cell_type": "code",
   "execution_count": null,
   "metadata": {
    "colab": {},
    "colab_type": "code",
    "id": "4px3hMucjq0D"
   },
   "outputs": [],
   "source": [
    "#oov\n",
    "model.get_word_vector(\"enviroment\")"
   ]
  },
  {
   "cell_type": "markdown",
   "metadata": {
    "colab_type": "text",
    "id": "778Z9q4YjqLb"
   },
   "source": [
    "# Nearest neighbor queries\n",
    "- word vector의 퀄리티를 평가\n",
    "- 벡터의 의미 정보 유형을 직관적으로 보여줌."
   ]
  },
  {
   "cell_type": "code",
   "execution_count": 19,
   "metadata": {
    "colab": {
     "base_uri": "https://localhost:8080/",
     "height": 195
    },
    "colab_type": "code",
    "id": "uR805ft2oXha",
    "outputId": "d4a914ae-43e2-4cd2-eb7c-db4efccf1763"
   },
   "outputs": [
    {
     "data": {
      "text/plain": [
       "[(0.8229429125785828, 'horseradish'),\n",
       " (0.8174294829368591, 'cabbage'),\n",
       " (0.8091084361076355, 'cauliflower'),\n",
       " (0.8013622760772705, 'cabbages'),\n",
       " (0.792203426361084, 'beetroot'),\n",
       " (0.7917746305465698, 'asparagales'),\n",
       " (0.7904706597328186, 'spinach'),\n",
       " (0.7856069803237915, 'cauliflowers'),\n",
       " (0.781997561454773, 'arrowroot'),\n",
       " (0.7778395414352417, 'oleracea')]"
      ]
     },
     "execution_count": 19,
     "metadata": {
      "tags": []
     },
     "output_type": "execute_result"
    }
   ],
   "source": [
    "model.get_nearest_neighbors('asparagus')"
   ]
  },
  {
   "cell_type": "code",
   "execution_count": 20,
   "metadata": {
    "colab": {
     "base_uri": "https://localhost:8080/",
     "height": 195
    },
    "colab_type": "code",
    "id": "tjDyvhmCorYe",
    "outputId": "745a8e3e-1922-446e-d1ef-cb23c4827527"
   },
   "outputs": [
    {
     "data": {
      "text/plain": [
       "[(0.9040499329566956, 'pidgeot'),\n",
       " (0.8955814242362976, 'pidge'),\n",
       " (0.8770537972450256, 'pidgeotto'),\n",
       " (0.7627281546592712, 'pidgeon'),\n",
       " (0.7459321618080139, 'pikachu'),\n",
       " (0.7438387274742126, 'squirtle'),\n",
       " (0.7122770547866821, 'pokemon'),\n",
       " (0.7104504704475403, 'johto'),\n",
       " (0.6992117166519165, 'beedrill'),\n",
       " (0.6975911259651184, 'butterfree')]"
      ]
     },
     "execution_count": 20,
     "metadata": {
      "tags": []
     },
     "output_type": "execute_result"
    }
   ],
   "source": [
    "model.get_nearest_neighbors('pidgey')"
   ]
  },
  {
   "cell_type": "code",
   "execution_count": 21,
   "metadata": {
    "colab": {
     "base_uri": "https://localhost:8080/",
     "height": 195
    },
    "colab_type": "code",
    "id": "NSAQhdohorEx",
    "outputId": "ec5f8b35-c1ac-4375-866f-5def55391ac8"
   },
   "outputs": [
    {
     "data": {
      "text/plain": [
       "[(0.8960695266723633, 'enviromental'),\n",
       " (0.8583640456199646, 'environ'),\n",
       " (0.8029642701148987, 'enviro'),\n",
       " (0.7756938338279724, 'environnement'),\n",
       " (0.7536866664886475, 'environs'),\n",
       " (0.7470517754554749, 'enviromission'),\n",
       " (0.6951451301574707, 'environment'),\n",
       " (0.6946241855621338, 'ecotone'),\n",
       " (0.6925439238548279, 'sustainability'),\n",
       " (0.6888049244880676, 'ecotourism')]"
      ]
     },
     "execution_count": 21,
     "metadata": {
      "tags": []
     },
     "output_type": "execute_result"
    }
   ],
   "source": [
    "#misspelled word\n",
    "model.get_nearest_neighbors('enviroment')"
   ]
  },
  {
   "cell_type": "markdown",
   "metadata": {
    "colab_type": "text",
    "id": "OyQ6qZjMpnQY"
   },
   "source": [
    "# Measure of similarity\n",
    "단어 사이의 유사성을 계산해 최근접 이웃을 찾을 수 있다. <br>\n",
    "모든 단어들을 계산해서 가장 유사한 단어 10개를 나타낸다.\n",
    "해당 단어가 있다면 상단에 표시되고 유사도는 1이다.\n",
    "\n",
    "# Word analogies\n",
    "ex) France, Berlin, Germany 세 단어의 관계를 유추할 수 있다."
   ]
  },
  {
   "cell_type": "code",
   "execution_count": 22,
   "metadata": {
    "colab": {
     "base_uri": "https://localhost:8080/",
     "height": 195
    },
    "colab_type": "code",
    "id": "c4sQ5_lGpncA",
    "outputId": "df7aa68d-4c2b-4c4d-ddb6-8fff24c069cb"
   },
   "outputs": [
    {
     "data": {
      "text/plain": [
       "[(0.8967704176902771, 'paris'),\n",
       " (0.7749188542366028, 'maubourg'),\n",
       " (0.757949709892273, 'louveciennes'),\n",
       " (0.7532722353935242, 'faubourg'),\n",
       " (0.7503136396408081, 'monceaux'),\n",
       " (0.7501069903373718, 'valenciennes'),\n",
       " (0.7470589280128479, 'volontaires'),\n",
       " (0.7469262480735779, 'tourelles'),\n",
       " (0.7445774674415588, 'rouvres'),\n",
       " (0.7430331110954285, 'beaubourg')]"
      ]
     },
     "execution_count": 22,
     "metadata": {
      "tags": []
     },
     "output_type": "execute_result"
    }
   ],
   "source": [
    "model.get_analogies('berlin','germany','france')"
   ]
  },
  {
   "cell_type": "code",
   "execution_count": 23,
   "metadata": {
    "colab": {
     "base_uri": "https://localhost:8080/",
     "height": 195
    },
    "colab_type": "code",
    "id": "5vGSXcY8pniL",
    "outputId": "1ff3c2de-2893-4fb5-d9fb-b1e75c9830be"
   },
   "outputs": [
    {
     "data": {
      "text/plain": [
       "[(0.7564773559570312, 'gamecube'),\n",
       " (0.7556949257850647, 'gba'),\n",
       " (0.7316620349884033, 'zaxxon'),\n",
       " (0.7265994548797607, 'arcade'),\n",
       " (0.7215122580528259, 'gamepark'),\n",
       " (0.721269965171814, 'gameboy'),\n",
       " (0.719158411026001, 'dreamcast'),\n",
       " (0.7140929698944092, 'super'),\n",
       " (0.7116702198982239, 'sega'),\n",
       " (0.7110921144485474, 'snes')]"
      ]
     },
     "execution_count": 23,
     "metadata": {
      "tags": []
     },
     "output_type": "execute_result"
    }
   ],
   "source": [
    "model.get_analogies('psx','sony','nintendo')"
   ]
  },
  {
   "cell_type": "markdown",
   "metadata": {
    "colab_type": "text",
    "id": "1ApRdK_wpnX7"
   },
   "source": [
    "# Importance of character n-grams\n",
    "서브단어 정보를 사용하면 모르는 단어의 벡터도 빌드할 수 있다.<br>\n",
    "ex) gearshift는 위키피티아에 없지만 비슷한 단어를 찾을 수 있다."
   ]
  },
  {
   "cell_type": "code",
   "execution_count": 24,
   "metadata": {
    "colab": {
     "base_uri": "https://localhost:8080/",
     "height": 195
    },
    "colab_type": "code",
    "id": "-fCmDCZJpnVy",
    "outputId": "78374db6-5a8e-47b8-a6df-e9d20d5fcfb1"
   },
   "outputs": [
    {
     "data": {
      "text/plain": [
       "[(0.7953199744224548, 'gears'),\n",
       " (0.7944257259368896, 'gearing'),\n",
       " (0.7617721557617188, 'flywheels'),\n",
       " (0.7587226033210754, 'flywheel'),\n",
       " (0.7533383369445801, 'driveshafts'),\n",
       " (0.7500735521316528, 'tailwheel'),\n",
       " (0.748734712600708, 'daisywheel'),\n",
       " (0.742712140083313, 'gearboxes'),\n",
       " (0.736818253993988, 'runabouts'),\n",
       " (0.7362300157546997, 'driveshaft')]"
      ]
     },
     "execution_count": 24,
     "metadata": {
      "tags": []
     },
     "output_type": "execute_result"
    }
   ],
   "source": [
    "model.get_nearest_neighbors('gearshift')"
   ]
  },
  {
   "cell_type": "code",
   "execution_count": null,
   "metadata": {
    "colab": {},
    "colab_type": "code",
    "id": "KmqIglx-pnMm"
   },
   "outputs": [],
   "source": [
    "#서브단어 없이 학습하는 모델\n",
    "model_without_subwords = fasttext.train_unsupervised('data/fil9', maxn=0)"
   ]
  },
  {
   "cell_type": "code",
   "execution_count": null,
   "metadata": {
    "colab": {},
    "colab_type": "code",
    "id": "D0dVyGlAuww-"
   },
   "outputs": [],
   "source": [
    "#서브단어가 없는 모델에 스펠링 오류 단어를 넣어 최근접 이웃 출력\n",
    "model_without_subwords.get_nearest_neighbors('accomodation')"
   ]
  },
  {
   "cell_type": "code",
   "execution_count": 25,
   "metadata": {
    "colab": {
     "base_uri": "https://localhost:8080/",
     "height": 195
    },
    "colab_type": "code",
    "id": "4pBhz1ibvTRO",
    "outputId": "53cce85f-09cf-419e-8d49-107a05fcadbb"
   },
   "outputs": [
    {
     "data": {
      "text/plain": [
       "[(0.9668127298355103, 'accomodations'),\n",
       " (0.9419698715209961, 'accommodation'),\n",
       " (0.9248396754264832, 'accommodations'),\n",
       " (0.8561415672302246, 'accommodative'),\n",
       " (0.795039713382721, 'accommodating'),\n",
       " (0.7890238761901855, 'amenities'),\n",
       " (0.7589897513389587, 'accomodated'),\n",
       " (0.754024088382721, 'accomodate'),\n",
       " (0.7530205845832825, 'lodging'),\n",
       " (0.7515777945518494, 'catering')]"
      ]
     },
     "execution_count": 25,
     "metadata": {
      "tags": []
     },
     "output_type": "execute_result"
    }
   ],
   "source": [
    "#서브단어 활용 모델\n",
    "model.get_nearest_neighbors('accomodation')"
   ]
  }
 ],
 "metadata": {
  "colab": {
   "collapsed_sections": [],
   "name": "FastText_WordRepresentation_tutorial.ipynb",
   "provenance": []
  },
  "kernelspec": {
   "display_name": "Python 3",
   "language": "python",
   "name": "python3"
  },
  "language_info": {
   "codemirror_mode": {
    "name": "ipython",
    "version": 3
   },
   "file_extension": ".py",
   "mimetype": "text/x-python",
   "name": "python",
   "nbconvert_exporter": "python",
   "pygments_lexer": "ipython3",
   "version": "3.7.6"
  }
 },
 "nbformat": 4,
 "nbformat_minor": 1
}
