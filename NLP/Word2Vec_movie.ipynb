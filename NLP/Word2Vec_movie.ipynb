{
 "cells": [
  {
   "cell_type": "markdown",
   "metadata": {
    "colab_type": "text",
    "id": "IlP_KbGdOkrc"
   },
   "source": [
    "## 영어 Word2Vec \n"
   ]
  },
  {
   "cell_type": "markdown",
   "metadata": {
    "colab_type": "text",
    "id": "62N-J4ATPBbx"
   },
   "source": [
    "\n",
    "* 파이썬 gensim 패키지의 Word2Vec 클래스 \n",
    "*   nltk의 영화 감상 코퍼스 사용\n",
    "\n"
   ]
  },
  {
   "cell_type": "code",
   "execution_count": 1,
   "metadata": {
    "colab": {},
    "colab_type": "code",
    "id": "XDYD_SlEOfze"
   },
   "outputs": [
    {
     "name": "stderr",
     "output_type": "stream",
     "text": [
      "[nltk_data] Downloading package movie_reviews to\n",
      "[nltk_data]     /Users/minjeongpark/nltk_data...\n",
      "[nltk_data]   Package movie_reviews is already up-to-date!\n"
     ]
    },
    {
     "data": {
      "text/plain": [
       "True"
      ]
     },
     "execution_count": 1,
     "metadata": {},
     "output_type": "execute_result"
    }
   ],
   "source": [
    "import nltk\n",
    "nltk.download('movie_reviews')"
   ]
  },
  {
   "cell_type": "code",
   "execution_count": 2,
   "metadata": {
    "colab": {},
    "colab_type": "code",
    "id": "Hx56uLy8PUS_",
    "scrolled": true
   },
   "outputs": [
    {
     "name": "stderr",
     "output_type": "stream",
     "text": [
      "[nltk_data] Downloading package punkt to\n",
      "[nltk_data]     /Users/minjeongpark/nltk_data...\n",
      "[nltk_data]   Package punkt is already up-to-date!\n"
     ]
    }
   ],
   "source": [
    "from nltk.corpus import movie_reviews\n",
    "nltk.download('punkt') #토큰화\n",
    "sentences = [list(s) for s in movie_reviews.sents()] "
   ]
  },
  {
   "cell_type": "code",
   "execution_count": 3,
   "metadata": {
    "colab": {},
    "colab_type": "code",
    "id": "HeayFHFGPt8v"
   },
   "outputs": [
    {
     "data": {
      "text/plain": [
       "['plot',\n",
       " ':',\n",
       " 'two',\n",
       " 'teen',\n",
       " 'couples',\n",
       " 'go',\n",
       " 'to',\n",
       " 'a',\n",
       " 'church',\n",
       " 'party',\n",
       " ',',\n",
       " 'drink',\n",
       " 'and',\n",
       " 'then',\n",
       " 'drive',\n",
       " '.']"
      ]
     },
     "execution_count": 3,
     "metadata": {},
     "output_type": "execute_result"
    }
   ],
   "source": [
    "sentences[0]"
   ]
  },
  {
   "cell_type": "code",
   "execution_count": 16,
   "metadata": {},
   "outputs": [
    {
     "name": "stdout",
     "output_type": "stream",
     "text": [
      "총 샘플의 개수 : 71532\n"
     ]
    }
   ],
   "source": [
    "print('총 샘플의 개수 : {}'.format(len(sentences)))"
   ]
  },
  {
   "cell_type": "markdown",
   "metadata": {
    "colab_type": "text",
    "id": "K5IZmiXMUKCn"
   },
   "source": [
    "\n",
    "### Word2Vec 하이퍼파라미터 값\n",
    "> * size = 임베딩 된 벡터의 차원\n",
    "> * window = 문자열 윈도우 크기\n",
    "> * min_count = 단어 최소 빈도 수 제한 (빈도가 적은 단어들은 학습하지 않는다.)\n",
    "> * workers = 학습을 위한 프로세스 수\n",
    "> * sg = 0은 CBOW, 1은 Skip-gram\n",
    "> * sample = 빠른 학습을 위해 정답 단어 레벨에 대한 다운샘플링 비율\n",
    "> * iter = 학습 반복 횟수 (=epoch)\n"
   ]
  },
  {
   "cell_type": "code",
   "execution_count": 17,
   "metadata": {
    "colab": {},
    "colab_type": "code",
    "id": "hkBlbzwxP7O_"
   },
   "outputs": [],
   "source": [
    "from gensim.models.word2vec import Word2Vec\n",
    "model = Word2Vec(sentences,size=100, window=5, min_count=5, workers=4, sg=0) "
   ]
  },
  {
   "cell_type": "markdown",
   "metadata": {
    "colab_type": "text",
    "id": "jvocjiJ6bt1g"
   },
   "source": [
    "### similarity : 두 단어의 유사도 계산"
   ]
  },
  {
   "cell_type": "code",
   "execution_count": 19,
   "metadata": {
    "colab": {},
    "colab_type": "code",
    "id": "Iu931AOnQbt_"
   },
   "outputs": [
    {
     "data": {
      "text/plain": [
       "0.86582994"
      ]
     },
     "execution_count": 19,
     "metadata": {},
     "output_type": "execute_result"
    }
   ],
   "source": [
    "model.wv.similarity('actor', 'actress')"
   ]
  },
  {
   "cell_type": "code",
   "execution_count": 20,
   "metadata": {
    "colab": {},
    "colab_type": "code",
    "id": "xAy4LDVrQq4b"
   },
   "outputs": [
    {
     "data": {
      "text/plain": [
       "0.85210884"
      ]
     },
     "execution_count": 20,
     "metadata": {},
     "output_type": "execute_result"
    }
   ],
   "source": [
    "model.wv.similarity('he', 'she')"
   ]
  },
  {
   "cell_type": "code",
   "execution_count": 21,
   "metadata": {
    "colab": {},
    "colab_type": "code",
    "id": "K0sk9RwIQt9w"
   },
   "outputs": [
    {
     "data": {
      "text/plain": [
       "0.26521784"
      ]
     },
     "execution_count": 21,
     "metadata": {},
     "output_type": "execute_result"
    }
   ],
   "source": [
    "model.wv.similarity('actor', 'she')"
   ]
  },
  {
   "cell_type": "markdown",
   "metadata": {
    "colab_type": "text",
    "id": "9V5rmIBKcAnh"
   },
   "source": [
    "### most_similar : 가장 유사한 단어를 출력"
   ]
  },
  {
   "cell_type": "code",
   "execution_count": 22,
   "metadata": {
    "colab": {},
    "colab_type": "code",
    "id": "10oqoU7FQx9B"
   },
   "outputs": [
    {
     "name": "stdout",
     "output_type": "stream",
     "text": [
      "[('man', 0.9196918606758118), ('girl', 0.9075090885162354), ('doctor', 0.8494932651519775), ('child', 0.8429781794548035), ('boy', 0.8389486074447632), ('lady', 0.8041539788246155), ('killer', 0.7863848805427551), ('son', 0.7440717816352844), ('father', 0.7412368059158325), ('cop', 0.7350701689720154)]\n"
     ]
    }
   ],
   "source": [
    "model_result = model.wv.most_similar(\"woman\")\n",
    "print(model_result)"
   ]
  },
  {
   "cell_type": "code",
   "execution_count": 23,
   "metadata": {
    "colab": {},
    "colab_type": "code",
    "id": "orthv-SmQ43V"
   },
   "outputs": [
    {
     "data": {
      "text/plain": [
       "[('he', 0.299748033285141)]"
      ]
     },
     "execution_count": 23,
     "metadata": {},
     "output_type": "execute_result"
    }
   ],
   "source": [
    "model.wv.most_similar(positive=['she', 'actor'], negative='actress', topn=1)"
   ]
  },
  {
   "cell_type": "markdown",
   "metadata": {
    "colab_type": "text",
    "id": "SYflA5bcVpeC"
   },
   "source": [
    "출처 : https://datascienceschool.net/view-notebook/6927b0906f884a67b0da9310d3a581ee/  \n",
    "https://wikidocs.net/50739"
   ]
  }
 ],
 "metadata": {
  "colab": {
   "name": "Untitled",
   "private_outputs": true,
   "provenance": []
  },
  "kernelspec": {
   "display_name": "Python 3",
   "language": "python",
   "name": "python3"
  },
  "language_info": {
   "codemirror_mode": {
    "name": "ipython",
    "version": 3
   },
   "file_extension": ".py",
   "mimetype": "text/x-python",
   "name": "python",
   "nbconvert_exporter": "python",
   "pygments_lexer": "ipython3",
   "version": "3.7.6"
  }
 },
 "nbformat": 4,
 "nbformat_minor": 1
}
